{
 "cells": [
  {
   "cell_type": "markdown",
   "id": "1e92acc6",
   "metadata": {},
   "source": [
    "### importing all useful modules"
   ]
  },
  {
   "cell_type": "code",
   "execution_count": 1,
   "id": "32a3edbf",
   "metadata": {},
   "outputs": [],
   "source": [
    "import pandas as pd\n",
    "import numpy as np\n",
    "import matplotlib.pyplot as plt"
   ]
  },
  {
   "cell_type": "markdown",
   "id": "00b8df36",
   "metadata": {},
   "source": [
    "### reading all csv files using pandas module"
   ]
  },
  {
   "cell_type": "code",
   "execution_count": 2,
   "id": "e210e6aa",
   "metadata": {},
   "outputs": [],
   "source": [
    "covid_death =  pd.read_csv('C:\\\\Users\\\\User\\\\Desktop\\\\SQL\\\\covid report\\\\covid_deaths.csv')\n",
    "covid_vaccination = pd.read_csv('C:\\\\Users\\\\User\\\\Desktop\\\\SQL\\\\covid report\\\\covid_vaccination.csv')"
   ]
  },
  {
   "cell_type": "code",
   "execution_count": 3,
   "id": "0593f30d",
   "metadata": {},
   "outputs": [
    {
     "data": {
      "text/plain": [
       "Index(['iso_code', 'continent', 'location', 'date', 'population',\n",
       "       'total_cases', 'new_cases', 'new_cases_smoothed', 'total_deaths',\n",
       "       'new_deaths', 'new_deaths_smoothed', 'total_cases_per_million',\n",
       "       'new_cases_per_million', 'new_cases_smoothed_per_million',\n",
       "       'total_deaths_per_million', 'new_deaths_per_million',\n",
       "       'new_deaths_smoothed_per_million', 'reproduction_rate', 'icu_patients',\n",
       "       'icu_patients_per_million', 'hosp_patients',\n",
       "       'hosp_patients_per_million', 'weekly_icu_admissions',\n",
       "       'weekly_icu_admissions_per_million', 'weekly_hosp_admissions',\n",
       "       'weekly_hosp_admissions_per_million'],\n",
       "      dtype='object')"
      ]
     },
     "execution_count": 3,
     "metadata": {},
     "output_type": "execute_result"
    }
   ],
   "source": [
    "covid_death.columns"
   ]
  },
  {
   "cell_type": "markdown",
   "id": "d0ff2af9",
   "metadata": {},
   "source": [
    "#### We will now create new dataframe with useful columns. We will use continent, location, date, population, total_cases, new cases, tota_deaths, new_deaths, new_cases_per_million, new_deaths_per_million."
   ]
  },
  {
   "cell_type": "markdown",
   "id": "25f54153",
   "metadata": {},
   "source": [
    "### creating new dataframe death_data with required columns"
   ]
  },
  {
   "cell_type": "code",
   "execution_count": 4,
   "id": "89a9225c",
   "metadata": {},
   "outputs": [],
   "source": [
    "death_data = covid_death[['continent','location','date','population','total_cases','new_cases','total_deaths','new_deaths','total_cases_per_million','total_deaths_per_million']]"
   ]
  },
  {
   "cell_type": "code",
   "execution_count": 5,
   "id": "a594bb38",
   "metadata": {
    "scrolled": true
   },
   "outputs": [
    {
     "name": "stderr",
     "output_type": "stream",
     "text": [
      "C:\\Users\\User\\AppData\\Local\\Temp/ipykernel_14848/82498412.py:2: SettingWithCopyWarning: \n",
      "A value is trying to be set on a copy of a slice from a DataFrame.\n",
      "Try using .loc[row_indexer,col_indexer] = value instead\n",
      "\n",
      "See the caveats in the documentation: https://pandas.pydata.org/pandas-docs/stable/user_guide/indexing.html#returning-a-view-versus-a-copy\n",
      "  death_data['date']=pd.to_datetime(death_data['date'])\n"
     ]
    }
   ],
   "source": [
    "# changing date column to datetimestamp.\n",
    "death_data['date']=pd.to_datetime(death_data['date'])"
   ]
  },
  {
   "cell_type": "code",
   "execution_count": 6,
   "id": "e7219fc5",
   "metadata": {},
   "outputs": [
    {
     "data": {
      "text/plain": [
       "pandas._libs.tslibs.timestamps.Timestamp"
      ]
     },
     "execution_count": 6,
     "metadata": {},
     "output_type": "execute_result"
    }
   ],
   "source": [
    "# checking type of date column\n",
    "type(death_data['date'][0])"
   ]
  },
  {
   "cell_type": "code",
   "execution_count": 7,
   "id": "0a6927b9",
   "metadata": {},
   "outputs": [
    {
     "data": {
      "text/plain": [
       "continent                    9436\n",
       "location                        0\n",
       "date                            0\n",
       "population                   1035\n",
       "total_cases                  2832\n",
       "new_cases                    2887\n",
       "total_deaths                20283\n",
       "new_deaths                  20124\n",
       "total_cases_per_million      3550\n",
       "total_deaths_per_million    20988\n",
       "dtype: int64"
      ]
     },
     "execution_count": 7,
     "metadata": {},
     "output_type": "execute_result"
    }
   ],
   "source": [
    "# firstly working with data of covid_death\n",
    "# data cleaning\n",
    "# checking if the data is null or not\n",
    "death_data.isnull().sum()"
   ]
  },
  {
   "cell_type": "code",
   "execution_count": 8,
   "id": "a0f4d025",
   "metadata": {
    "scrolled": true
   },
   "outputs": [
    {
     "name": "stderr",
     "output_type": "stream",
     "text": [
      "C:\\Users\\User\\AppData\\Local\\Programs\\Python\\Python310\\lib\\site-packages\\pandas\\core\\generic.py:6392: SettingWithCopyWarning: \n",
      "A value is trying to be set on a copy of a slice from a DataFrame\n",
      "\n",
      "See the caveats in the documentation: https://pandas.pydata.org/pandas-docs/stable/user_guide/indexing.html#returning-a-view-versus-a-copy\n",
      "  return self._update_inplace(result)\n"
     ]
    }
   ],
   "source": [
    "# we have to fill null values in population because population cannot be null and it remains same as from the previous date.\n",
    "death_data['population'].fillna(method='ffill',inplace=True)"
   ]
  },
  {
   "cell_type": "code",
   "execution_count": 9,
   "id": "1dbe97be",
   "metadata": {},
   "outputs": [
    {
     "data": {
      "text/plain": [
       "0"
      ]
     },
     "execution_count": 9,
     "metadata": {},
     "output_type": "execute_result"
    }
   ],
   "source": [
    "death_data['population'].isnull().sum()"
   ]
  },
  {
   "cell_type": "code",
   "execution_count": 10,
   "id": "b4f9830d",
   "metadata": {},
   "outputs": [
    {
     "data": {
      "text/html": [
       "<div>\n",
       "<style scoped>\n",
       "    .dataframe tbody tr th:only-of-type {\n",
       "        vertical-align: middle;\n",
       "    }\n",
       "\n",
       "    .dataframe tbody tr th {\n",
       "        vertical-align: top;\n",
       "    }\n",
       "\n",
       "    .dataframe thead th {\n",
       "        text-align: right;\n",
       "    }\n",
       "</style>\n",
       "<table border=\"1\" class=\"dataframe\">\n",
       "  <thead>\n",
       "    <tr style=\"text-align: right;\">\n",
       "      <th></th>\n",
       "      <th>continent</th>\n",
       "      <th>location</th>\n",
       "      <th>date</th>\n",
       "      <th>population</th>\n",
       "      <th>total_cases</th>\n",
       "      <th>new_cases</th>\n",
       "      <th>total_deaths</th>\n",
       "      <th>new_deaths</th>\n",
       "      <th>total_cases_per_million</th>\n",
       "      <th>total_deaths_per_million</th>\n",
       "    </tr>\n",
       "  </thead>\n",
       "  <tbody>\n",
       "    <tr>\n",
       "      <th>701</th>\n",
       "      <td>NaN</td>\n",
       "      <td>Africa</td>\n",
       "      <td>2020-02-13</td>\n",
       "      <td>1.373486e+09</td>\n",
       "      <td>NaN</td>\n",
       "      <td>0.0</td>\n",
       "      <td>NaN</td>\n",
       "      <td>0.0</td>\n",
       "      <td>NaN</td>\n",
       "      <td>NaN</td>\n",
       "    </tr>\n",
       "    <tr>\n",
       "      <th>702</th>\n",
       "      <td>NaN</td>\n",
       "      <td>Africa</td>\n",
       "      <td>2020-02-14</td>\n",
       "      <td>1.373486e+09</td>\n",
       "      <td>1.0</td>\n",
       "      <td>1.0</td>\n",
       "      <td>NaN</td>\n",
       "      <td>0.0</td>\n",
       "      <td>0.001</td>\n",
       "      <td>NaN</td>\n",
       "    </tr>\n",
       "    <tr>\n",
       "      <th>703</th>\n",
       "      <td>NaN</td>\n",
       "      <td>Africa</td>\n",
       "      <td>2020-02-15</td>\n",
       "      <td>1.373486e+09</td>\n",
       "      <td>1.0</td>\n",
       "      <td>0.0</td>\n",
       "      <td>NaN</td>\n",
       "      <td>0.0</td>\n",
       "      <td>0.001</td>\n",
       "      <td>NaN</td>\n",
       "    </tr>\n",
       "    <tr>\n",
       "      <th>704</th>\n",
       "      <td>NaN</td>\n",
       "      <td>Africa</td>\n",
       "      <td>2020-02-16</td>\n",
       "      <td>1.373486e+09</td>\n",
       "      <td>1.0</td>\n",
       "      <td>0.0</td>\n",
       "      <td>NaN</td>\n",
       "      <td>0.0</td>\n",
       "      <td>0.001</td>\n",
       "      <td>NaN</td>\n",
       "    </tr>\n",
       "    <tr>\n",
       "      <th>705</th>\n",
       "      <td>NaN</td>\n",
       "      <td>Africa</td>\n",
       "      <td>2020-02-17</td>\n",
       "      <td>1.373486e+09</td>\n",
       "      <td>1.0</td>\n",
       "      <td>0.0</td>\n",
       "      <td>NaN</td>\n",
       "      <td>0.0</td>\n",
       "      <td>0.001</td>\n",
       "      <td>NaN</td>\n",
       "    </tr>\n",
       "    <tr>\n",
       "      <th>...</th>\n",
       "      <td>...</td>\n",
       "      <td>...</td>\n",
       "      <td>...</td>\n",
       "      <td>...</td>\n",
       "      <td>...</td>\n",
       "      <td>...</td>\n",
       "      <td>...</td>\n",
       "      <td>...</td>\n",
       "      <td>...</td>\n",
       "      <td>...</td>\n",
       "    </tr>\n",
       "    <tr>\n",
       "      <th>154988</th>\n",
       "      <td>NaN</td>\n",
       "      <td>World</td>\n",
       "      <td>2022-01-20</td>\n",
       "      <td>7.874966e+09</td>\n",
       "      <td>342581803.0</td>\n",
       "      <td>3579405.0</td>\n",
       "      <td>5576126.0</td>\n",
       "      <td>9232.0</td>\n",
       "      <td>43502.640</td>\n",
       "      <td>708.083</td>\n",
       "    </tr>\n",
       "    <tr>\n",
       "      <th>154989</th>\n",
       "      <td>NaN</td>\n",
       "      <td>World</td>\n",
       "      <td>2022-01-21</td>\n",
       "      <td>7.874966e+09</td>\n",
       "      <td>346464304.0</td>\n",
       "      <td>3882501.0</td>\n",
       "      <td>5585823.0</td>\n",
       "      <td>9697.0</td>\n",
       "      <td>43995.659</td>\n",
       "      <td>709.314</td>\n",
       "    </tr>\n",
       "    <tr>\n",
       "      <th>154990</th>\n",
       "      <td>NaN</td>\n",
       "      <td>World</td>\n",
       "      <td>2022-01-22</td>\n",
       "      <td>7.874966e+09</td>\n",
       "      <td>349134552.0</td>\n",
       "      <td>2670248.0</td>\n",
       "      <td>5591704.0</td>\n",
       "      <td>5881.0</td>\n",
       "      <td>44334.739</td>\n",
       "      <td>710.061</td>\n",
       "    </tr>\n",
       "    <tr>\n",
       "      <th>154991</th>\n",
       "      <td>NaN</td>\n",
       "      <td>World</td>\n",
       "      <td>2022-01-23</td>\n",
       "      <td>7.874966e+09</td>\n",
       "      <td>351378115.0</td>\n",
       "      <td>2243563.0</td>\n",
       "      <td>5596504.0</td>\n",
       "      <td>4800.0</td>\n",
       "      <td>44619.637</td>\n",
       "      <td>710.670</td>\n",
       "    </tr>\n",
       "    <tr>\n",
       "      <th>154992</th>\n",
       "      <td>NaN</td>\n",
       "      <td>World</td>\n",
       "      <td>2022-01-24</td>\n",
       "      <td>7.874966e+09</td>\n",
       "      <td>354717844.0</td>\n",
       "      <td>3339729.0</td>\n",
       "      <td>5604293.0</td>\n",
       "      <td>7789.0</td>\n",
       "      <td>45043.732</td>\n",
       "      <td>711.659</td>\n",
       "    </tr>\n",
       "  </tbody>\n",
       "</table>\n",
       "<p>9436 rows × 10 columns</p>\n",
       "</div>"
      ],
      "text/plain": [
       "       continent location       date    population  total_cases  new_cases  \\\n",
       "701          NaN   Africa 2020-02-13  1.373486e+09          NaN        0.0   \n",
       "702          NaN   Africa 2020-02-14  1.373486e+09          1.0        1.0   \n",
       "703          NaN   Africa 2020-02-15  1.373486e+09          1.0        0.0   \n",
       "704          NaN   Africa 2020-02-16  1.373486e+09          1.0        0.0   \n",
       "705          NaN   Africa 2020-02-17  1.373486e+09          1.0        0.0   \n",
       "...          ...      ...        ...           ...          ...        ...   \n",
       "154988       NaN    World 2022-01-20  7.874966e+09  342581803.0  3579405.0   \n",
       "154989       NaN    World 2022-01-21  7.874966e+09  346464304.0  3882501.0   \n",
       "154990       NaN    World 2022-01-22  7.874966e+09  349134552.0  2670248.0   \n",
       "154991       NaN    World 2022-01-23  7.874966e+09  351378115.0  2243563.0   \n",
       "154992       NaN    World 2022-01-24  7.874966e+09  354717844.0  3339729.0   \n",
       "\n",
       "        total_deaths  new_deaths  total_cases_per_million  \\\n",
       "701              NaN         0.0                      NaN   \n",
       "702              NaN         0.0                    0.001   \n",
       "703              NaN         0.0                    0.001   \n",
       "704              NaN         0.0                    0.001   \n",
       "705              NaN         0.0                    0.001   \n",
       "...              ...         ...                      ...   \n",
       "154988     5576126.0      9232.0                43502.640   \n",
       "154989     5585823.0      9697.0                43995.659   \n",
       "154990     5591704.0      5881.0                44334.739   \n",
       "154991     5596504.0      4800.0                44619.637   \n",
       "154992     5604293.0      7789.0                45043.732   \n",
       "\n",
       "        total_deaths_per_million  \n",
       "701                          NaN  \n",
       "702                          NaN  \n",
       "703                          NaN  \n",
       "704                          NaN  \n",
       "705                          NaN  \n",
       "...                          ...  \n",
       "154988                   708.083  \n",
       "154989                   709.314  \n",
       "154990                   710.061  \n",
       "154991                   710.670  \n",
       "154992                   711.659  \n",
       "\n",
       "[9436 rows x 10 columns]"
      ]
     },
     "execution_count": 10,
     "metadata": {},
     "output_type": "execute_result"
    }
   ],
   "source": [
    "death_data[death_data['continent'].isna()]"
   ]
  },
  {
   "cell_type": "code",
   "execution_count": 11,
   "id": "9c129c3b",
   "metadata": {},
   "outputs": [
    {
     "data": {
      "text/plain": [
       "array(['Asia', nan, 'Europe', 'Africa', 'North America', 'South America',\n",
       "       'Oceania'], dtype=object)"
      ]
     },
     "execution_count": 11,
     "metadata": {},
     "output_type": "execute_result"
    }
   ],
   "source": [
    "# lets check the different continents in the list\n",
    "death_data['continent'].unique()"
   ]
  },
  {
   "cell_type": "code",
   "execution_count": 12,
   "id": "800bcf6f",
   "metadata": {},
   "outputs": [
    {
     "name": "stderr",
     "output_type": "stream",
     "text": [
      "C:\\Users\\User\\AppData\\Local\\Programs\\Python\\Python310\\lib\\site-packages\\pandas\\util\\_decorators.py:311: SettingWithCopyWarning: \n",
      "A value is trying to be set on a copy of a slice from a DataFrame\n",
      "\n",
      "See the caveats in the documentation: https://pandas.pydata.org/pandas-docs/stable/user_guide/indexing.html#returning-a-view-versus-a-copy\n",
      "  return func(*args, **kwargs)\n"
     ]
    }
   ],
   "source": [
    "#dropping all the nan values in continent because location doesnt contain countries w.r. to different continent or other 7th continent\n",
    "death_data.dropna(subset = ['continent'] ,inplace = True)"
   ]
  },
  {
   "cell_type": "code",
   "execution_count": 13,
   "id": "a53f809b",
   "metadata": {
    "scrolled": true
   },
   "outputs": [
    {
     "data": {
      "text/plain": [
       "continent    0\n",
       "dtype: int64"
      ]
     },
     "execution_count": 13,
     "metadata": {},
     "output_type": "execute_result"
    }
   ],
   "source": [
    "death_data[['continent']].isnull().sum()"
   ]
  },
  {
   "cell_type": "code",
   "execution_count": 14,
   "id": "7632e477",
   "metadata": {},
   "outputs": [
    {
     "data": {
      "text/html": [
       "<div>\n",
       "<style scoped>\n",
       "    .dataframe tbody tr th:only-of-type {\n",
       "        vertical-align: middle;\n",
       "    }\n",
       "\n",
       "    .dataframe tbody tr th {\n",
       "        vertical-align: top;\n",
       "    }\n",
       "\n",
       "    .dataframe thead th {\n",
       "        text-align: right;\n",
       "    }\n",
       "</style>\n",
       "<table border=\"1\" class=\"dataframe\">\n",
       "  <thead>\n",
       "    <tr style=\"text-align: right;\">\n",
       "      <th></th>\n",
       "      <th>continent</th>\n",
       "      <th>location</th>\n",
       "      <th>date</th>\n",
       "      <th>population</th>\n",
       "      <th>total_cases</th>\n",
       "      <th>new_cases</th>\n",
       "      <th>total_deaths</th>\n",
       "      <th>new_deaths</th>\n",
       "      <th>total_cases_per_million</th>\n",
       "      <th>total_deaths_per_million</th>\n",
       "    </tr>\n",
       "  </thead>\n",
       "  <tbody>\n",
       "    <tr>\n",
       "      <th>0</th>\n",
       "      <td>Asia</td>\n",
       "      <td>Afghanistan</td>\n",
       "      <td>2020-02-24</td>\n",
       "      <td>39835428.0</td>\n",
       "      <td>5.0</td>\n",
       "      <td>5.0</td>\n",
       "      <td>NaN</td>\n",
       "      <td>NaN</td>\n",
       "      <td>0.126</td>\n",
       "      <td>NaN</td>\n",
       "    </tr>\n",
       "    <tr>\n",
       "      <th>1</th>\n",
       "      <td>Asia</td>\n",
       "      <td>Afghanistan</td>\n",
       "      <td>2020-02-25</td>\n",
       "      <td>39835428.0</td>\n",
       "      <td>5.0</td>\n",
       "      <td>0.0</td>\n",
       "      <td>NaN</td>\n",
       "      <td>NaN</td>\n",
       "      <td>0.126</td>\n",
       "      <td>NaN</td>\n",
       "    </tr>\n",
       "    <tr>\n",
       "      <th>2</th>\n",
       "      <td>Asia</td>\n",
       "      <td>Afghanistan</td>\n",
       "      <td>2020-02-26</td>\n",
       "      <td>39835428.0</td>\n",
       "      <td>5.0</td>\n",
       "      <td>0.0</td>\n",
       "      <td>NaN</td>\n",
       "      <td>NaN</td>\n",
       "      <td>0.126</td>\n",
       "      <td>NaN</td>\n",
       "    </tr>\n",
       "    <tr>\n",
       "      <th>3</th>\n",
       "      <td>Asia</td>\n",
       "      <td>Afghanistan</td>\n",
       "      <td>2020-02-27</td>\n",
       "      <td>39835428.0</td>\n",
       "      <td>5.0</td>\n",
       "      <td>0.0</td>\n",
       "      <td>NaN</td>\n",
       "      <td>NaN</td>\n",
       "      <td>0.126</td>\n",
       "      <td>NaN</td>\n",
       "    </tr>\n",
       "    <tr>\n",
       "      <th>4</th>\n",
       "      <td>Asia</td>\n",
       "      <td>Afghanistan</td>\n",
       "      <td>2020-02-28</td>\n",
       "      <td>39835428.0</td>\n",
       "      <td>5.0</td>\n",
       "      <td>0.0</td>\n",
       "      <td>NaN</td>\n",
       "      <td>NaN</td>\n",
       "      <td>0.126</td>\n",
       "      <td>NaN</td>\n",
       "    </tr>\n",
       "  </tbody>\n",
       "</table>\n",
       "</div>"
      ],
      "text/plain": [
       "  continent     location       date  population  total_cases  new_cases  \\\n",
       "0      Asia  Afghanistan 2020-02-24  39835428.0          5.0        5.0   \n",
       "1      Asia  Afghanistan 2020-02-25  39835428.0          5.0        0.0   \n",
       "2      Asia  Afghanistan 2020-02-26  39835428.0          5.0        0.0   \n",
       "3      Asia  Afghanistan 2020-02-27  39835428.0          5.0        0.0   \n",
       "4      Asia  Afghanistan 2020-02-28  39835428.0          5.0        0.0   \n",
       "\n",
       "   total_deaths  new_deaths  total_cases_per_million  total_deaths_per_million  \n",
       "0           NaN         NaN                    0.126                       NaN  \n",
       "1           NaN         NaN                    0.126                       NaN  \n",
       "2           NaN         NaN                    0.126                       NaN  \n",
       "3           NaN         NaN                    0.126                       NaN  \n",
       "4           NaN         NaN                    0.126                       NaN  "
      ]
     },
     "execution_count": 14,
     "metadata": {},
     "output_type": "execute_result"
    }
   ],
   "source": [
    "death_data.head()"
   ]
  },
  {
   "cell_type": "code",
   "execution_count": 15,
   "id": "e502e173",
   "metadata": {},
   "outputs": [
    {
     "name": "stdout",
     "output_type": "stream",
     "text": [
      "number of locations/countries in the data is 225\n",
      "number of different continents in the data is 6\n"
     ]
    }
   ],
   "source": [
    "# checking number of unique countries and continents\n",
    "print('number of locations/countries in the data is '+str(death_data['location'].nunique()))\n",
    "print('number of different continents in the data is '+str(death_data['continent'].nunique()))"
   ]
  },
  {
   "cell_type": "code",
   "execution_count": 16,
   "id": "cf7d7825",
   "metadata": {},
   "outputs": [
    {
     "data": {
      "text/plain": [
       "array(['Asia', 'Europe', 'Africa', 'North America', 'South America',\n",
       "       'Oceania'], dtype=object)"
      ]
     },
     "execution_count": 16,
     "metadata": {},
     "output_type": "execute_result"
    }
   ],
   "source": [
    "# firstly lets group our data with respect to continent and grab some insights with our six continent\n",
    "death_data['continent'].unique()"
   ]
  },
  {
   "cell_type": "code",
   "execution_count": 17,
   "id": "c9ecc8cc",
   "metadata": {},
   "outputs": [],
   "source": [
    "group_by_continent = death_data.groupby('continent')"
   ]
  },
  {
   "cell_type": "code",
   "execution_count": 18,
   "id": "dd4e4e2d",
   "metadata": {},
   "outputs": [],
   "source": [
    "continent_list = death_data['continent'].unique().tolist()"
   ]
  },
  {
   "cell_type": "code",
   "execution_count": 19,
   "id": "d68bff61",
   "metadata": {},
   "outputs": [
    {
     "data": {
      "text/plain": [
       "Index(['continent', 'location', 'date', 'population', 'total_cases',\n",
       "       'new_cases', 'total_deaths', 'new_deaths', 'total_cases_per_million',\n",
       "       'total_deaths_per_million'],\n",
       "      dtype='object')"
      ]
     },
     "execution_count": 19,
     "metadata": {},
     "output_type": "execute_result"
    }
   ],
   "source": [
    "death_data.columns"
   ]
  },
  {
   "cell_type": "code",
   "execution_count": 20,
   "id": "3aceb53a",
   "metadata": {},
   "outputs": [
    {
     "name": "stderr",
     "output_type": "stream",
     "text": [
      "C:\\Users\\User\\AppData\\Local\\Temp/ipykernel_14848/2651470397.py:3: SettingWithCopyWarning: \n",
      "A value is trying to be set on a copy of a slice from a DataFrame.\n",
      "Try using .loc[row_indexer,col_indexer] = value instead\n",
      "\n",
      "See the caveats in the documentation: https://pandas.pydata.org/pandas-docs/stable/user_guide/indexing.html#returning-a-view-versus-a-copy\n",
      "  death_data['percentage_death']=(death_data['total_deaths']/death_data['total_cases'])*100\n"
     ]
    }
   ],
   "source": [
    "# creating a new column in death_data which will tell us how many percentage people die after getting covid!\n",
    "# means percentage possibility of death after having covid in particular continent\n",
    "death_data['percentage_death']=(death_data['total_deaths']/death_data['total_cases'])*100"
   ]
  },
  {
   "cell_type": "code",
   "execution_count": null,
   "id": "6ec2d64c",
   "metadata": {},
   "outputs": [],
   "source": []
  },
  {
   "cell_type": "code",
   "execution_count": 21,
   "id": "e28c668b",
   "metadata": {},
   "outputs": [
    {
     "name": "stdout",
     "output_type": "stream",
     "text": [
      "total number of cases in particular continent is {'Asia': 94554554.0, 'Europe': 116744321.0, 'Africa': 10589039.0, 'North America': 83891572.0, 'South America': 45897704.0, 'Oceania': 2466281.0}\n",
      "total number of deaths in particular continent is {'Asia': 1277809.0, 'Europe': 1598454.0, 'Africa': 235852.0, 'North America': 1268155.0, 'South America': 1192927.0, 'Oceania': 5584.0}\n",
      "total number of location in particular continent is {'Asia': 50, 'Europe': 51, 'Africa': 55, 'North America': 35, 'South America': 13, 'Oceania': 21}\n",
      "chance of death if someone gets covid in continent {'Asia': 2.1787514870922027, 'Europe': 2.643288128248185, 'Africa': 2.47674516856706, 'North America': 2.7783018013331757, 'South America': 3.7250968996108074, 'Oceania': 3.15652061998622}\n"
     ]
    }
   ],
   "source": [
    "# extracting new data from the death_data for different continents\n",
    "location_in_continent=[] # number of location from the data in different continents\n",
    "cases_per_continent=[] # number of total cases in particular continent\n",
    "deaths_per_continent = [] # number of total deaths in particular continent\n",
    "chance_of_death = [] #chances of death or mortality rate\n",
    "population_list = []\n",
    "for continent in continent_list:\n",
    "    data = group_by_continent.get_group(continent)\n",
    "    location_in_continent.append(data['location'].nunique())\n",
    "    cases_per_continent.append(data['new_cases'].sum())\n",
    "    deaths_per_continent.append(data['new_deaths'].sum())\n",
    "    chance_of_death.append(data['percentage_death'].mean())\n",
    "    population_list.append(data['population'].mean())\n",
    "#     percentage_affected_population(sum(new_cases)/\n",
    "dictionary_of_cases = dict(zip(continent_list,cases_per_continent))\n",
    "dictionary_of_deaths = dict(zip(continent_list,deaths_per_continent))\n",
    "dictionary_of_location = dict(zip(continent_list,location_in_continent))\n",
    "dictionary_of_mortality_rate =dict(zip(continent_list,chance_of_death))\n",
    "dictionary_of_population = dict(zip(continent_list,population_list))\n",
    "print('total number of cases in particular continent is '+ str(dictionary_of_cases))\n",
    "print('total number of deaths in particular continent is '+ str(dictionary_of_deaths))\n",
    "print('total number of location in particular continent is '+ str(dictionary_of_location))\n"
   ]
  },
  {
   "cell_type": "code",
   "execution_count": 22,
   "id": "61824d53",
   "metadata": {},
   "outputs": [
    {
     "name": "stdout",
     "output_type": "stream",
     "text": [
      "This graph shows the number of countries in different continents\n"
     ]
    },
    {
     "data": {
      "image/png": "[encoded data removed]",
      "text/plain": [
       "<Figure size 432x288 with 1 Axes>"
      ]
     },
     "metadata": {},
     "output_type": "display_data"
    },
    {
     "name": "stdout",
     "output_type": "stream",
     "text": [
      "So, 24.4% countries in the list are from africa, 22.7% are from Europe, 22.2% are from Asia and rest are from Oceania,South America and North America\n"
     ]
    }
   ],
   "source": [
    "print('This graph shows the number of countries in different continents')\n",
    "explode = (0.1, 0.1, 0.1, 0,0,0)\n",
    "plt.pie(location_in_continent,labels=continent_list,explode=explode,autopct='%1.1f%%',shadow=True)\n",
    "plt.axis('equal')\n",
    "plt.show()\n",
    "print('So, 24.4% countries in the list are from africa, 22.7% are from Europe, 22.2% are from Asia and rest are from Oceania,South America and North America')"
   ]
  },
  {
   "cell_type": "code",
   "execution_count": 23,
   "id": "7bc4b0b9",
   "metadata": {},
   "outputs": [
    {
     "data": {
      "text/plain": [
       "numpy.float64"
      ]
     },
     "execution_count": 23,
     "metadata": {},
     "output_type": "execute_result"
    }
   ],
   "source": [
    "type(cases_per_continent[0])"
   ]
  },
  {
   "cell_type": "code",
   "execution_count": 24,
   "id": "48a8da42",
   "metadata": {},
   "outputs": [
    {
     "data": {
      "image/png": "[encoded data removed]",
      "text/plain": [
       "<Figure size 432x288 with 1 Axes>"
      ]
     },
     "metadata": {
      "needs_background": "light"
     },
     "output_type": "display_data"
    }
   ],
   "source": [
    "#creating barplot for checking the number of cases in particular continent\n",
    "plt.bar(continent_list,cases_per_continent)\n",
    "plt.xlabel('Name of Continent')\n",
    "plt.ylabel('Total number of cases (10^8)')\n",
    "plt.xticks(rotation='vertical')\n",
    "# for index,value in enumerate(cases_per_continent):\n",
    "#     plt.text(value, index,str(value))\n",
    "plt.show()"
   ]
  },
  {
   "cell_type": "code",
   "execution_count": 25,
   "id": "3636adc8",
   "metadata": {},
   "outputs": [
    {
     "data": {
      "image/png": "[encoded data removed]",
      "text/plain": [
       "<Figure size 432x288 with 1 Axes>"
      ]
     },
     "metadata": {
      "needs_background": "light"
     },
     "output_type": "display_data"
    }
   ],
   "source": [
    "#creating barplot for checking the number of deaths in particular continent\n",
    "plt.bar(continent_list,deaths_per_continent)\n",
    "plt.xlabel('Name of Continent')\n",
    "plt.ylabel('Total number of deaths (10^8)')\n",
    "plt.xticks(rotation='vertical')\n",
    "# for index,value in enumerate(cases_per_continent):\n",
    "#     plt.text(value, index,str(value))\n",
    "plt.show()"
   ]
  },
  {
   "cell_type": "code",
   "execution_count": 26,
   "id": "997b1572",
   "metadata": {},
   "outputs": [
    {
     "data": {
      "image/png": "[encoded data removed]",
      "text/plain": [
       "<Figure size 432x288 with 1 Axes>"
      ]
     },
     "metadata": {
      "needs_background": "light"
     },
     "output_type": "display_data"
    }
   ],
   "source": [
    "# which continent covid is more dangerous? i.e. which continent have more mortality rate?\n",
    "plt.bar(continent_list,chance_of_death)\n",
    "plt.xlabel('Name of Continent')\n",
    "plt.ylabel('Chance of death / mortality rate')\n",
    "plt.xticks(rotation='vertical')\n",
    "plt.show()\n",
    "# for index,value in enumerate(chance_of_death):\n",
    "#     plt.text(value, index,str(value))"
   ]
  },
  {
   "cell_type": "markdown",
   "id": "8aa915dc",
   "metadata": {},
   "source": [
    "### South America Covid is more dangerous. Or the climatic conditions or medical facility or government doesn't work good in South America."
   ]
  },
  {
   "cell_type": "code",
   "execution_count": null,
   "id": "76d8f605",
   "metadata": {},
   "outputs": [],
   "source": []
  }
 ],
 "metadata": {
  "kernelspec": {
   "display_name": "Python 3 (ipykernel)",
   "language": "python",
   "name": "python3"
  },
  "language_info": {
   "codemirror_mode": {
    "name": "ipython",
    "version": 3
   },
   "file_extension": ".py",
   "mimetype": "text/x-python",
   "name": "python",
   "nbconvert_exporter": "python",
   "pygments_lexer": "ipython3",
   "version": "3.10.1"
  }
 },
 "nbformat": 4,
 "nbformat_minor": 5
}
