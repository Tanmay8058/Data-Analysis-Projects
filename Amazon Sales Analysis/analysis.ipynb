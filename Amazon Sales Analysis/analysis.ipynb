{
 "cells": [
  {
   "cell_type": "markdown",
   "id": "10b2bdbe",
   "metadata": {},
   "source": [
    "### Importing required modules"
   ]
  },
  {
   "cell_type": "code",
   "execution_count": 1,
   "id": "0073daff",
   "metadata": {},
   "outputs": [],
   "source": [
    "import pandas as pd\n",
    "import numpy as np\n",
    "import matplotlib.pyplot as plt\n",
    "import seaborn as sns\n",
    "import os"
   ]
  },
  {
   "cell_type": "markdown",
   "id": "620ca65b",
   "metadata": {},
   "source": [
    "### Importing all csv files by just one command using 'os'"
   ]
  },
  {
   "cell_type": "code",
   "execution_count": 2,
   "id": "427a9c5a",
   "metadata": {},
   "outputs": [
    {
     "name": "stdout",
     "output_type": "stream",
     "text": [
      "['.ipynb_checkpoints', 'Sales_April_2019.csv', 'Sales_August_2019.csv', 'Sales_December_2019.csv', 'Sales_February_2019.csv', 'Sales_January_2019.csv', 'Sales_July_2019.csv', 'Sales_June_2019.csv', 'Sales_March_2019.csv', 'Sales_May_2019.csv', 'Sales_November_2019.csv', 'Sales_October_2019.csv', 'Sales_September_2019.csv', 'Untitled.ipynb']\n"
     ]
    }
   ],
   "source": [
    "files=[file for file in os.listdir()]\n",
    "print(files)"
   ]
  },
  {
   "cell_type": "markdown",
   "id": "f0d13a8e",
   "metadata": {},
   "source": [
    "### Creating a empty dataframe then we will concat all the csv files into it"
   ]
  },
  {
   "cell_type": "code",
   "execution_count": 3,
   "id": "d0fdb817",
   "metadata": {},
   "outputs": [],
   "source": [
    "# creating an empty dataframe 'df'\n",
    "all_data=pd.DataFrame()"
   ]
  },
  {
   "cell_type": "markdown",
   "id": "d8e59728",
   "metadata": {},
   "source": [
    "### creating all_data file with all 12 months data"
   ]
  },
  {
   "cell_type": "code",
   "execution_count": 4,
   "id": "cba7512e",
   "metadata": {},
   "outputs": [],
   "source": [
    "for file in files[1:len(files)-1]:\n",
    "    data=pd.read_csv(file)\n",
    "    all_data=pd.concat([all_data,data], ignore_index= True)"
   ]
  },
  {
   "cell_type": "code",
   "execution_count": 5,
   "id": "9c83f2ef",
   "metadata": {},
   "outputs": [
    {
     "data": {
      "text/plain": [
       "(186850, 6)"
      ]
     },
     "execution_count": 5,
     "metadata": {},
     "output_type": "execute_result"
    }
   ],
   "source": [
    "all_data.shape"
   ]
  },
  {
   "cell_type": "markdown",
   "id": "792f752d",
   "metadata": {},
   "source": [
    "# Task 01: cleaning data"
   ]
  },
  {
   "cell_type": "markdown",
   "id": "62c99010",
   "metadata": {},
   "source": [
    "### removing NaN values and special values which are not useful for our data"
   ]
  },
  {
   "cell_type": "code",
   "execution_count": 6,
   "id": "93d510d4",
   "metadata": {},
   "outputs": [
    {
     "data": {
      "text/html": [
       "<div>\n",
       "<style scoped>\n",
       "    .dataframe tbody tr th:only-of-type {\n",
       "        vertical-align: middle;\n",
       "    }\n",
       "\n",
       "    .dataframe tbody tr th {\n",
       "        vertical-align: top;\n",
       "    }\n",
       "\n",
       "    .dataframe thead th {\n",
       "        text-align: right;\n",
       "    }\n",
       "</style>\n",
       "<table border=\"1\" class=\"dataframe\">\n",
       "  <thead>\n",
       "    <tr style=\"text-align: right;\">\n",
       "      <th></th>\n",
       "      <th>Order ID</th>\n",
       "      <th>Product</th>\n",
       "      <th>Quantity Ordered</th>\n",
       "      <th>Price Each</th>\n",
       "      <th>Order Date</th>\n",
       "      <th>Purchase Address</th>\n",
       "    </tr>\n",
       "  </thead>\n",
       "  <tbody>\n",
       "    <tr>\n",
       "      <th>0</th>\n",
       "      <td>176558</td>\n",
       "      <td>USB-C Charging Cable</td>\n",
       "      <td>2</td>\n",
       "      <td>11.95</td>\n",
       "      <td>04/19/19 08:46</td>\n",
       "      <td>917 1st St, Dallas, TX 75001</td>\n",
       "    </tr>\n",
       "  </tbody>\n",
       "</table>\n",
       "</div>"
      ],
      "text/plain": [
       "  Order ID               Product Quantity Ordered Price Each      Order Date  \\\n",
       "0   176558  USB-C Charging Cable                2      11.95  04/19/19 08:46   \n",
       "\n",
       "               Purchase Address  \n",
       "0  917 1st St, Dallas, TX 75001  "
      ]
     },
     "execution_count": 6,
     "metadata": {},
     "output_type": "execute_result"
    }
   ],
   "source": [
    "all_data.head(1)"
   ]
  },
  {
   "cell_type": "code",
   "execution_count": 7,
   "id": "2e45b107",
   "metadata": {},
   "outputs": [
    {
     "data": {
      "text/plain": [
       "Order ID            545\n",
       "Product             545\n",
       "Quantity Ordered    545\n",
       "Price Each          545\n",
       "Order Date          545\n",
       "Purchase Address    545\n",
       "dtype: int64"
      ]
     },
     "execution_count": 7,
     "metadata": {},
     "output_type": "execute_result"
    }
   ],
   "source": [
    "all_data.isnull().sum()"
   ]
  },
  {
   "cell_type": "code",
   "execution_count": 8,
   "id": "98516d0f",
   "metadata": {},
   "outputs": [],
   "source": [
    "all_data=all_data.dropna()"
   ]
  },
  {
   "cell_type": "code",
   "execution_count": 9,
   "id": "15171bbb",
   "metadata": {},
   "outputs": [
    {
     "data": {
      "text/plain": [
       "Order ID            0\n",
       "Product             0\n",
       "Quantity Ordered    0\n",
       "Price Each          0\n",
       "Order Date          0\n",
       "Purchase Address    0\n",
       "dtype: int64"
      ]
     },
     "execution_count": 9,
     "metadata": {},
     "output_type": "execute_result"
    }
   ],
   "source": [
    "all_data.isnull().sum()"
   ]
  },
  {
   "cell_type": "markdown",
   "id": "11961e9e",
   "metadata": {},
   "source": [
    "### So we have removed all NaN values from the dataframe but we do not know about special values we will know about it afterwards"
   ]
  },
  {
   "cell_type": "markdown",
   "id": "a91a8392",
   "metadata": {},
   "source": [
    "# Task 02: converting Order Dates to timestamp!"
   ]
  },
  {
   "cell_type": "code",
   "execution_count": 10,
   "id": "db0a468e",
   "metadata": {},
   "outputs": [],
   "source": [
    "# when we run this command to convert order date to timestamp \n",
    "# all_data['Order Date']=pd.to_datetime(all_data['Order Date'])\n",
    "# it shows this error 'Unknown string format: Order Date'\n",
    "# it means there is some string which cannot be converted to time"
   ]
  },
  {
   "cell_type": "code",
   "execution_count": 11,
   "id": "cf4907bb",
   "metadata": {},
   "outputs": [
    {
     "data": {
      "text/html": [
       "<div>\n",
       "<style scoped>\n",
       "    .dataframe tbody tr th:only-of-type {\n",
       "        vertical-align: middle;\n",
       "    }\n",
       "\n",
       "    .dataframe tbody tr th {\n",
       "        vertical-align: top;\n",
       "    }\n",
       "\n",
       "    .dataframe thead th {\n",
       "        text-align: right;\n",
       "    }\n",
       "</style>\n",
       "<table border=\"1\" class=\"dataframe\">\n",
       "  <thead>\n",
       "    <tr style=\"text-align: right;\">\n",
       "      <th></th>\n",
       "      <th>Order ID</th>\n",
       "      <th>Product</th>\n",
       "      <th>Quantity Ordered</th>\n",
       "      <th>Price Each</th>\n",
       "      <th>Order Date</th>\n",
       "      <th>Purchase Address</th>\n",
       "    </tr>\n",
       "  </thead>\n",
       "  <tbody>\n",
       "    <tr>\n",
       "      <th>519</th>\n",
       "      <td>Order ID</td>\n",
       "      <td>Product</td>\n",
       "      <td>Quantity Ordered</td>\n",
       "      <td>Price Each</td>\n",
       "      <td>Order Date</td>\n",
       "      <td>Purchase Address</td>\n",
       "    </tr>\n",
       "    <tr>\n",
       "      <th>1149</th>\n",
       "      <td>Order ID</td>\n",
       "      <td>Product</td>\n",
       "      <td>Quantity Ordered</td>\n",
       "      <td>Price Each</td>\n",
       "      <td>Order Date</td>\n",
       "      <td>Purchase Address</td>\n",
       "    </tr>\n",
       "    <tr>\n",
       "      <th>1155</th>\n",
       "      <td>Order ID</td>\n",
       "      <td>Product</td>\n",
       "      <td>Quantity Ordered</td>\n",
       "      <td>Price Each</td>\n",
       "      <td>Order Date</td>\n",
       "      <td>Purchase Address</td>\n",
       "    </tr>\n",
       "    <tr>\n",
       "      <th>2878</th>\n",
       "      <td>Order ID</td>\n",
       "      <td>Product</td>\n",
       "      <td>Quantity Ordered</td>\n",
       "      <td>Price Each</td>\n",
       "      <td>Order Date</td>\n",
       "      <td>Purchase Address</td>\n",
       "    </tr>\n",
       "    <tr>\n",
       "      <th>2893</th>\n",
       "      <td>Order ID</td>\n",
       "      <td>Product</td>\n",
       "      <td>Quantity Ordered</td>\n",
       "      <td>Price Each</td>\n",
       "      <td>Order Date</td>\n",
       "      <td>Purchase Address</td>\n",
       "    </tr>\n",
       "    <tr>\n",
       "      <th>...</th>\n",
       "      <td>...</td>\n",
       "      <td>...</td>\n",
       "      <td>...</td>\n",
       "      <td>...</td>\n",
       "      <td>...</td>\n",
       "      <td>...</td>\n",
       "    </tr>\n",
       "    <tr>\n",
       "      <th>185164</th>\n",
       "      <td>Order ID</td>\n",
       "      <td>Product</td>\n",
       "      <td>Quantity Ordered</td>\n",
       "      <td>Price Each</td>\n",
       "      <td>Order Date</td>\n",
       "      <td>Purchase Address</td>\n",
       "    </tr>\n",
       "    <tr>\n",
       "      <th>185551</th>\n",
       "      <td>Order ID</td>\n",
       "      <td>Product</td>\n",
       "      <td>Quantity Ordered</td>\n",
       "      <td>Price Each</td>\n",
       "      <td>Order Date</td>\n",
       "      <td>Purchase Address</td>\n",
       "    </tr>\n",
       "    <tr>\n",
       "      <th>186563</th>\n",
       "      <td>Order ID</td>\n",
       "      <td>Product</td>\n",
       "      <td>Quantity Ordered</td>\n",
       "      <td>Price Each</td>\n",
       "      <td>Order Date</td>\n",
       "      <td>Purchase Address</td>\n",
       "    </tr>\n",
       "    <tr>\n",
       "      <th>186632</th>\n",
       "      <td>Order ID</td>\n",
       "      <td>Product</td>\n",
       "      <td>Quantity Ordered</td>\n",
       "      <td>Price Each</td>\n",
       "      <td>Order Date</td>\n",
       "      <td>Purchase Address</td>\n",
       "    </tr>\n",
       "    <tr>\n",
       "      <th>186738</th>\n",
       "      <td>Order ID</td>\n",
       "      <td>Product</td>\n",
       "      <td>Quantity Ordered</td>\n",
       "      <td>Price Each</td>\n",
       "      <td>Order Date</td>\n",
       "      <td>Purchase Address</td>\n",
       "    </tr>\n",
       "  </tbody>\n",
       "</table>\n",
       "<p>355 rows × 6 columns</p>\n",
       "</div>"
      ],
      "text/plain": [
       "        Order ID  Product  Quantity Ordered  Price Each  Order Date  \\\n",
       "519     Order ID  Product  Quantity Ordered  Price Each  Order Date   \n",
       "1149    Order ID  Product  Quantity Ordered  Price Each  Order Date   \n",
       "1155    Order ID  Product  Quantity Ordered  Price Each  Order Date   \n",
       "2878    Order ID  Product  Quantity Ordered  Price Each  Order Date   \n",
       "2893    Order ID  Product  Quantity Ordered  Price Each  Order Date   \n",
       "...          ...      ...               ...         ...         ...   \n",
       "185164  Order ID  Product  Quantity Ordered  Price Each  Order Date   \n",
       "185551  Order ID  Product  Quantity Ordered  Price Each  Order Date   \n",
       "186563  Order ID  Product  Quantity Ordered  Price Each  Order Date   \n",
       "186632  Order ID  Product  Quantity Ordered  Price Each  Order Date   \n",
       "186738  Order ID  Product  Quantity Ordered  Price Each  Order Date   \n",
       "\n",
       "        Purchase Address  \n",
       "519     Purchase Address  \n",
       "1149    Purchase Address  \n",
       "1155    Purchase Address  \n",
       "2878    Purchase Address  \n",
       "2893    Purchase Address  \n",
       "...                  ...  \n",
       "185164  Purchase Address  \n",
       "185551  Purchase Address  \n",
       "186563  Purchase Address  \n",
       "186632  Purchase Address  \n",
       "186738  Purchase Address  \n",
       "\n",
       "[355 rows x 6 columns]"
      ]
     },
     "execution_count": 11,
     "metadata": {},
     "output_type": "execute_result"
    }
   ],
   "source": [
    "all_data[all_data['Order Date']=='Order Date']"
   ]
  },
  {
   "cell_type": "markdown",
   "id": "9dc5b47c",
   "metadata": {},
   "source": [
    "### now we found the error and we have to remove all these special values"
   ]
  },
  {
   "cell_type": "code",
   "execution_count": 12,
   "id": "03afd89a",
   "metadata": {},
   "outputs": [],
   "source": [
    "# converting special values to nan values\n",
    "all_data['Order Date']=all_data['Order Date'].replace('Order Date',np.NaN)"
   ]
  },
  {
   "cell_type": "code",
   "execution_count": 13,
   "id": "a2334eb4",
   "metadata": {},
   "outputs": [
    {
     "data": {
      "text/plain": [
       "Order ID              0\n",
       "Product               0\n",
       "Quantity Ordered      0\n",
       "Price Each            0\n",
       "Order Date          355\n",
       "Purchase Address      0\n",
       "dtype: int64"
      ]
     },
     "execution_count": 13,
     "metadata": {},
     "output_type": "execute_result"
    }
   ],
   "source": [
    "all_data.isnull().sum()"
   ]
  },
  {
   "cell_type": "code",
   "execution_count": 14,
   "id": "0e978fe7",
   "metadata": {},
   "outputs": [],
   "source": [
    "all_data=all_data.dropna()"
   ]
  },
  {
   "cell_type": "code",
   "execution_count": 15,
   "id": "0760aa95",
   "metadata": {},
   "outputs": [
    {
     "data": {
      "text/plain": [
       "Order ID            0\n",
       "Product             0\n",
       "Quantity Ordered    0\n",
       "Price Each          0\n",
       "Order Date          0\n",
       "Purchase Address    0\n",
       "dtype: int64"
      ]
     },
     "execution_count": 15,
     "metadata": {},
     "output_type": "execute_result"
    }
   ],
   "source": [
    "all_data.isnull().sum()"
   ]
  },
  {
   "cell_type": "markdown",
   "id": "b5547d27",
   "metadata": {},
   "source": [
    "### Yippieeeee!!! We have cleaned all data."
   ]
  },
  {
   "cell_type": "markdown",
   "id": "d255681f",
   "metadata": {},
   "source": [
    "## converting order date to datess!"
   ]
  },
  {
   "cell_type": "code",
   "execution_count": 16,
   "id": "da8daba5",
   "metadata": {},
   "outputs": [],
   "source": [
    "all_data['Order Date']=pd.to_datetime(all_data['Order Date'])"
   ]
  },
  {
   "cell_type": "code",
   "execution_count": 17,
   "id": "20b99e26",
   "metadata": {},
   "outputs": [
    {
     "data": {
      "text/html": [
       "<div>\n",
       "<style scoped>\n",
       "    .dataframe tbody tr th:only-of-type {\n",
       "        vertical-align: middle;\n",
       "    }\n",
       "\n",
       "    .dataframe tbody tr th {\n",
       "        vertical-align: top;\n",
       "    }\n",
       "\n",
       "    .dataframe thead th {\n",
       "        text-align: right;\n",
       "    }\n",
       "</style>\n",
       "<table border=\"1\" class=\"dataframe\">\n",
       "  <thead>\n",
       "    <tr style=\"text-align: right;\">\n",
       "      <th></th>\n",
       "      <th>Order ID</th>\n",
       "      <th>Product</th>\n",
       "      <th>Quantity Ordered</th>\n",
       "      <th>Price Each</th>\n",
       "      <th>Order Date</th>\n",
       "      <th>Purchase Address</th>\n",
       "    </tr>\n",
       "  </thead>\n",
       "  <tbody>\n",
       "    <tr>\n",
       "      <th>0</th>\n",
       "      <td>176558</td>\n",
       "      <td>USB-C Charging Cable</td>\n",
       "      <td>2</td>\n",
       "      <td>11.95</td>\n",
       "      <td>2019-04-19 08:46:00</td>\n",
       "      <td>917 1st St, Dallas, TX 75001</td>\n",
       "    </tr>\n",
       "    <tr>\n",
       "      <th>2</th>\n",
       "      <td>176559</td>\n",
       "      <td>Bose SoundSport Headphones</td>\n",
       "      <td>1</td>\n",
       "      <td>99.99</td>\n",
       "      <td>2019-04-07 22:30:00</td>\n",
       "      <td>682 Chestnut St, Boston, MA 02215</td>\n",
       "    </tr>\n",
       "    <tr>\n",
       "      <th>3</th>\n",
       "      <td>176560</td>\n",
       "      <td>Google Phone</td>\n",
       "      <td>1</td>\n",
       "      <td>600</td>\n",
       "      <td>2019-04-12 14:38:00</td>\n",
       "      <td>669 Spruce St, Los Angeles, CA 90001</td>\n",
       "    </tr>\n",
       "    <tr>\n",
       "      <th>4</th>\n",
       "      <td>176560</td>\n",
       "      <td>Wired Headphones</td>\n",
       "      <td>1</td>\n",
       "      <td>11.99</td>\n",
       "      <td>2019-04-12 14:38:00</td>\n",
       "      <td>669 Spruce St, Los Angeles, CA 90001</td>\n",
       "    </tr>\n",
       "    <tr>\n",
       "      <th>5</th>\n",
       "      <td>176561</td>\n",
       "      <td>Wired Headphones</td>\n",
       "      <td>1</td>\n",
       "      <td>11.99</td>\n",
       "      <td>2019-04-30 09:27:00</td>\n",
       "      <td>333 8th St, Los Angeles, CA 90001</td>\n",
       "    </tr>\n",
       "  </tbody>\n",
       "</table>\n",
       "</div>"
      ],
      "text/plain": [
       "  Order ID                     Product Quantity Ordered Price Each  \\\n",
       "0   176558        USB-C Charging Cable                2      11.95   \n",
       "2   176559  Bose SoundSport Headphones                1      99.99   \n",
       "3   176560                Google Phone                1        600   \n",
       "4   176560            Wired Headphones                1      11.99   \n",
       "5   176561            Wired Headphones                1      11.99   \n",
       "\n",
       "           Order Date                      Purchase Address  \n",
       "0 2019-04-19 08:46:00          917 1st St, Dallas, TX 75001  \n",
       "2 2019-04-07 22:30:00     682 Chestnut St, Boston, MA 02215  \n",
       "3 2019-04-12 14:38:00  669 Spruce St, Los Angeles, CA 90001  \n",
       "4 2019-04-12 14:38:00  669 Spruce St, Los Angeles, CA 90001  \n",
       "5 2019-04-30 09:27:00     333 8th St, Los Angeles, CA 90001  "
      ]
     },
     "execution_count": 17,
     "metadata": {},
     "output_type": "execute_result"
    }
   ],
   "source": [
    "all_data.head()"
   ]
  },
  {
   "cell_type": "code",
   "execution_count": 18,
   "id": "e286e23e",
   "metadata": {},
   "outputs": [
    {
     "data": {
      "text/plain": [
       "Timestamp('2019-04-19 08:46:00')"
      ]
     },
     "execution_count": 18,
     "metadata": {},
     "output_type": "execute_result"
    }
   ],
   "source": [
    "all_data['Order Date'][0]"
   ]
  },
  {
   "cell_type": "code",
   "execution_count": 19,
   "id": "90148677",
   "metadata": {},
   "outputs": [
    {
     "data": {
      "text/plain": [
       "pandas._libs.tslibs.timestamps.Timestamp"
      ]
     },
     "execution_count": 19,
     "metadata": {},
     "output_type": "execute_result"
    }
   ],
   "source": [
    "type(all_data['Order Date'][0])"
   ]
  },
  {
   "cell_type": "code",
   "execution_count": 20,
   "id": "b6070acf",
   "metadata": {},
   "outputs": [],
   "source": [
    "## creating a new column with months in it"
   ]
  },
  {
   "cell_type": "code",
   "execution_count": 21,
   "id": "c7bfb465",
   "metadata": {},
   "outputs": [],
   "source": [
    "all_data['month'] = pd.DatetimeIndex(all_data['Order Date']).month"
   ]
  },
  {
   "cell_type": "code",
   "execution_count": 22,
   "id": "45fc150e",
   "metadata": {},
   "outputs": [
    {
     "data": {
      "text/html": [
       "<div>\n",
       "<style scoped>\n",
       "    .dataframe tbody tr th:only-of-type {\n",
       "        vertical-align: middle;\n",
       "    }\n",
       "\n",
       "    .dataframe tbody tr th {\n",
       "        vertical-align: top;\n",
       "    }\n",
       "\n",
       "    .dataframe thead th {\n",
       "        text-align: right;\n",
       "    }\n",
       "</style>\n",
       "<table border=\"1\" class=\"dataframe\">\n",
       "  <thead>\n",
       "    <tr style=\"text-align: right;\">\n",
       "      <th></th>\n",
       "      <th>Order ID</th>\n",
       "      <th>Product</th>\n",
       "      <th>Quantity Ordered</th>\n",
       "      <th>Price Each</th>\n",
       "      <th>Order Date</th>\n",
       "      <th>Purchase Address</th>\n",
       "      <th>month</th>\n",
       "    </tr>\n",
       "  </thead>\n",
       "  <tbody>\n",
       "    <tr>\n",
       "      <th>0</th>\n",
       "      <td>176558</td>\n",
       "      <td>USB-C Charging Cable</td>\n",
       "      <td>2</td>\n",
       "      <td>11.95</td>\n",
       "      <td>2019-04-19 08:46:00</td>\n",
       "      <td>917 1st St, Dallas, TX 75001</td>\n",
       "      <td>4</td>\n",
       "    </tr>\n",
       "    <tr>\n",
       "      <th>2</th>\n",
       "      <td>176559</td>\n",
       "      <td>Bose SoundSport Headphones</td>\n",
       "      <td>1</td>\n",
       "      <td>99.99</td>\n",
       "      <td>2019-04-07 22:30:00</td>\n",
       "      <td>682 Chestnut St, Boston, MA 02215</td>\n",
       "      <td>4</td>\n",
       "    </tr>\n",
       "    <tr>\n",
       "      <th>3</th>\n",
       "      <td>176560</td>\n",
       "      <td>Google Phone</td>\n",
       "      <td>1</td>\n",
       "      <td>600</td>\n",
       "      <td>2019-04-12 14:38:00</td>\n",
       "      <td>669 Spruce St, Los Angeles, CA 90001</td>\n",
       "      <td>4</td>\n",
       "    </tr>\n",
       "    <tr>\n",
       "      <th>4</th>\n",
       "      <td>176560</td>\n",
       "      <td>Wired Headphones</td>\n",
       "      <td>1</td>\n",
       "      <td>11.99</td>\n",
       "      <td>2019-04-12 14:38:00</td>\n",
       "      <td>669 Spruce St, Los Angeles, CA 90001</td>\n",
       "      <td>4</td>\n",
       "    </tr>\n",
       "    <tr>\n",
       "      <th>5</th>\n",
       "      <td>176561</td>\n",
       "      <td>Wired Headphones</td>\n",
       "      <td>1</td>\n",
       "      <td>11.99</td>\n",
       "      <td>2019-04-30 09:27:00</td>\n",
       "      <td>333 8th St, Los Angeles, CA 90001</td>\n",
       "      <td>4</td>\n",
       "    </tr>\n",
       "  </tbody>\n",
       "</table>\n",
       "</div>"
      ],
      "text/plain": [
       "  Order ID                     Product Quantity Ordered Price Each  \\\n",
       "0   176558        USB-C Charging Cable                2      11.95   \n",
       "2   176559  Bose SoundSport Headphones                1      99.99   \n",
       "3   176560                Google Phone                1        600   \n",
       "4   176560            Wired Headphones                1      11.99   \n",
       "5   176561            Wired Headphones                1      11.99   \n",
       "\n",
       "           Order Date                      Purchase Address  month  \n",
       "0 2019-04-19 08:46:00          917 1st St, Dallas, TX 75001      4  \n",
       "2 2019-04-07 22:30:00     682 Chestnut St, Boston, MA 02215      4  \n",
       "3 2019-04-12 14:38:00  669 Spruce St, Los Angeles, CA 90001      4  \n",
       "4 2019-04-12 14:38:00  669 Spruce St, Los Angeles, CA 90001      4  \n",
       "5 2019-04-30 09:27:00     333 8th St, Los Angeles, CA 90001      4  "
      ]
     },
     "execution_count": 22,
     "metadata": {},
     "output_type": "execute_result"
    }
   ],
   "source": [
    "all_data.head()"
   ]
  },
  {
   "cell_type": "code",
   "execution_count": 23,
   "id": "9d4a0c33",
   "metadata": {
    "scrolled": true
   },
   "outputs": [
    {
     "data": {
      "text/html": [
       "<div>\n",
       "<style scoped>\n",
       "    .dataframe tbody tr th:only-of-type {\n",
       "        vertical-align: middle;\n",
       "    }\n",
       "\n",
       "    .dataframe tbody tr th {\n",
       "        vertical-align: top;\n",
       "    }\n",
       "\n",
       "    .dataframe thead th {\n",
       "        text-align: right;\n",
       "    }\n",
       "</style>\n",
       "<table border=\"1\" class=\"dataframe\">\n",
       "  <thead>\n",
       "    <tr style=\"text-align: right;\">\n",
       "      <th></th>\n",
       "      <th>Order ID</th>\n",
       "      <th>Product</th>\n",
       "      <th>Quantity Ordered</th>\n",
       "      <th>Price Each</th>\n",
       "      <th>Order Date</th>\n",
       "      <th>Purchase Address</th>\n",
       "      <th>month</th>\n",
       "    </tr>\n",
       "  </thead>\n",
       "  <tbody>\n",
       "    <tr>\n",
       "      <th>73891</th>\n",
       "      <td>147268</td>\n",
       "      <td>Wired Headphones</td>\n",
       "      <td>1</td>\n",
       "      <td>11.99</td>\n",
       "      <td>2019-01-01 03:07:00</td>\n",
       "      <td>9 Lake St, New York City, NY 10001</td>\n",
       "      <td>1</td>\n",
       "    </tr>\n",
       "    <tr>\n",
       "      <th>74701</th>\n",
       "      <td>148041</td>\n",
       "      <td>USB-C Charging Cable</td>\n",
       "      <td>1</td>\n",
       "      <td>11.95</td>\n",
       "      <td>2019-01-01 03:40:00</td>\n",
       "      <td>760 Church St, San Francisco, CA 94016</td>\n",
       "      <td>1</td>\n",
       "    </tr>\n",
       "    <tr>\n",
       "      <th>76054</th>\n",
       "      <td>149343</td>\n",
       "      <td>Apple Airpods Headphones</td>\n",
       "      <td>1</td>\n",
       "      <td>150</td>\n",
       "      <td>2019-01-01 04:56:00</td>\n",
       "      <td>735 5th St, New York City, NY 10001</td>\n",
       "      <td>1</td>\n",
       "    </tr>\n",
       "    <tr>\n",
       "      <th>76708</th>\n",
       "      <td>149964</td>\n",
       "      <td>AAA Batteries (4-pack)</td>\n",
       "      <td>1</td>\n",
       "      <td>2.99</td>\n",
       "      <td>2019-01-01 05:53:00</td>\n",
       "      <td>75 Jackson St, Dallas, TX 75001</td>\n",
       "      <td>1</td>\n",
       "    </tr>\n",
       "    <tr>\n",
       "      <th>76061</th>\n",
       "      <td>149350</td>\n",
       "      <td>USB-C Charging Cable</td>\n",
       "      <td>2</td>\n",
       "      <td>11.95</td>\n",
       "      <td>2019-01-01 06:03:00</td>\n",
       "      <td>943 2nd St, Atlanta, GA 30301</td>\n",
       "      <td>1</td>\n",
       "    </tr>\n",
       "  </tbody>\n",
       "</table>\n",
       "</div>"
      ],
      "text/plain": [
       "      Order ID                   Product Quantity Ordered Price Each  \\\n",
       "73891   147268          Wired Headphones                1      11.99   \n",
       "74701   148041      USB-C Charging Cable                1      11.95   \n",
       "76054   149343  Apple Airpods Headphones                1        150   \n",
       "76708   149964    AAA Batteries (4-pack)                1       2.99   \n",
       "76061   149350      USB-C Charging Cable                2      11.95   \n",
       "\n",
       "               Order Date                        Purchase Address  month  \n",
       "73891 2019-01-01 03:07:00      9 Lake St, New York City, NY 10001      1  \n",
       "74701 2019-01-01 03:40:00  760 Church St, San Francisco, CA 94016      1  \n",
       "76054 2019-01-01 04:56:00     735 5th St, New York City, NY 10001      1  \n",
       "76708 2019-01-01 05:53:00         75 Jackson St, Dallas, TX 75001      1  \n",
       "76061 2019-01-01 06:03:00           943 2nd St, Atlanta, GA 30301      1  "
      ]
     },
     "execution_count": 23,
     "metadata": {},
     "output_type": "execute_result"
    }
   ],
   "source": [
    "## since the dataframe has starting month with 4th we have to sort it first\n",
    "all_data=all_data.sort_values(by='Order Date')\n",
    "all_data.head()"
   ]
  },
  {
   "cell_type": "code",
   "execution_count": 24,
   "id": "daf184cb",
   "metadata": {},
   "outputs": [],
   "source": [
    "all_data=all_data.reset_index()"
   ]
  },
  {
   "cell_type": "code",
   "execution_count": 25,
   "id": "d45bf8d5",
   "metadata": {},
   "outputs": [],
   "source": [
    "## adding a sales column\n",
    "# all_data['sales']=all_data['Price Each']*all_data['Quantity Ordered']\n",
    "# for this first we have to convert price and quantity to integer values"
   ]
  },
  {
   "cell_type": "code",
   "execution_count": 26,
   "id": "25cd51b7",
   "metadata": {},
   "outputs": [],
   "source": [
    "all_data['Quantity Ordered']=all_data['Quantity Ordered'].astype(int)\n",
    "all_data['Price Each']=all_data['Price Each'].astype(float)"
   ]
  },
  {
   "cell_type": "code",
   "execution_count": 27,
   "id": "e84757b5",
   "metadata": {},
   "outputs": [],
   "source": [
    "all_data['sales']=all_data['Price Each']*all_data['Quantity Ordered']"
   ]
  },
  {
   "cell_type": "code",
   "execution_count": 28,
   "id": "f115947a",
   "metadata": {},
   "outputs": [
    {
     "data": {
      "text/html": [
       "<div>\n",
       "<style scoped>\n",
       "    .dataframe tbody tr th:only-of-type {\n",
       "        vertical-align: middle;\n",
       "    }\n",
       "\n",
       "    .dataframe tbody tr th {\n",
       "        vertical-align: top;\n",
       "    }\n",
       "\n",
       "    .dataframe thead th {\n",
       "        text-align: right;\n",
       "    }\n",
       "</style>\n",
       "<table border=\"1\" class=\"dataframe\">\n",
       "  <thead>\n",
       "    <tr style=\"text-align: right;\">\n",
       "      <th></th>\n",
       "      <th>index</th>\n",
       "      <th>Order ID</th>\n",
       "      <th>Product</th>\n",
       "      <th>Quantity Ordered</th>\n",
       "      <th>Price Each</th>\n",
       "      <th>Order Date</th>\n",
       "      <th>Purchase Address</th>\n",
       "      <th>month</th>\n",
       "      <th>sales</th>\n",
       "    </tr>\n",
       "  </thead>\n",
       "  <tbody>\n",
       "    <tr>\n",
       "      <th>0</th>\n",
       "      <td>73891</td>\n",
       "      <td>147268</td>\n",
       "      <td>Wired Headphones</td>\n",
       "      <td>1</td>\n",
       "      <td>11.99</td>\n",
       "      <td>2019-01-01 03:07:00</td>\n",
       "      <td>9 Lake St, New York City, NY 10001</td>\n",
       "      <td>1</td>\n",
       "      <td>11.99</td>\n",
       "    </tr>\n",
       "  </tbody>\n",
       "</table>\n",
       "</div>"
      ],
      "text/plain": [
       "   index Order ID           Product  Quantity Ordered  Price Each  \\\n",
       "0  73891   147268  Wired Headphones                 1       11.99   \n",
       "\n",
       "           Order Date                    Purchase Address  month  sales  \n",
       "0 2019-01-01 03:07:00  9 Lake St, New York City, NY 10001      1  11.99  "
      ]
     },
     "execution_count": 28,
     "metadata": {},
     "output_type": "execute_result"
    }
   ],
   "source": [
    "all_data.head(1)"
   ]
  },
  {
   "cell_type": "code",
   "execution_count": 29,
   "id": "e34c1f5c",
   "metadata": {},
   "outputs": [],
   "source": [
    "## checking unique values of months\n",
    "month_list=all_data['month'].unique().tolist()"
   ]
  },
  {
   "cell_type": "code",
   "execution_count": 30,
   "id": "d765ab2c",
   "metadata": {},
   "outputs": [
    {
     "data": {
      "text/plain": [
       "[1, 2, 3, 4, 5, 6, 7, 8, 9, 10, 11, 12]"
      ]
     },
     "execution_count": 30,
     "metadata": {},
     "output_type": "execute_result"
    }
   ],
   "source": [
    "month_list"
   ]
  },
  {
   "cell_type": "code",
   "execution_count": 31,
   "id": "d3e9a205",
   "metadata": {},
   "outputs": [
    {
     "data": {
      "text/plain": [
       "int"
      ]
     },
     "execution_count": 31,
     "metadata": {},
     "output_type": "execute_result"
    }
   ],
   "source": [
    "type(month_list[0])"
   ]
  },
  {
   "cell_type": "code",
   "execution_count": 32,
   "id": "7328ed0c",
   "metadata": {
    "scrolled": false
   },
   "outputs": [
    {
     "data": {
      "text/plain": [
       "numpy.int64"
      ]
     },
     "execution_count": 32,
     "metadata": {},
     "output_type": "execute_result"
    }
   ],
   "source": [
    "type(all_data['month'][0])"
   ]
  },
  {
   "cell_type": "code",
   "execution_count": 33,
   "id": "10500f50",
   "metadata": {},
   "outputs": [],
   "source": [
    "all_data['month']=all_data['month'].astype(int)"
   ]
  },
  {
   "cell_type": "code",
   "execution_count": 34,
   "id": "b6e2d3df",
   "metadata": {},
   "outputs": [
    {
     "data": {
      "text/plain": [
       "numpy.int32"
      ]
     },
     "execution_count": 34,
     "metadata": {},
     "output_type": "execute_result"
    }
   ],
   "source": [
    "type(all_data['month'][0])"
   ]
  },
  {
   "cell_type": "code",
   "execution_count": 35,
   "id": "099db83e",
   "metadata": {},
   "outputs": [
    {
     "name": "stdout",
     "output_type": "stream",
     "text": [
      "the total sales in 1 is 1822256.73\n",
      "the total sales in 2 is 2202022.42\n",
      "the total sales in 3 is 2807100.38\n",
      "the total sales in 4 is 3390670.2399999993\n",
      "the total sales in 5 is 3152606.7499999995\n",
      "the total sales in 6 is 2577802.26\n",
      "the total sales in 7 is 2647775.76\n",
      "the total sales in 8 is 2244467.88\n",
      "the total sales in 9 is 2097560.13\n",
      "the total sales in 10 is 3736726.88\n",
      "the total sales in 11 is 3199603.2\n",
      "the total sales in 12 is 4613443.339999999\n"
     ]
    },
    {
     "data": {
      "image/png": "[encoded data removed]",
      "text/plain": [
       "<Figure size 432x288 with 1 Axes>"
      ]
     },
     "metadata": {
      "needs_background": "light"
     },
     "output_type": "display_data"
    }
   ],
   "source": [
    "sales=[]\n",
    "for m in month_list:\n",
    "    print('the total sales in '+ str(m) +' is '+str(all_data[all_data['month']==m]['sales'].sum()))\n",
    "    sales.append(all_data[all_data['month']==m]['sales'].sum())\n",
    "plt.bar(month_list,sales)\n",
    "plt.xticks(rotation='vertical')\n",
    "plt.show()"
   ]
  },
  {
   "cell_type": "markdown",
   "id": "cb5f0258",
   "metadata": {},
   "source": [
    "## Which city sold the most product?"
   ]
  },
  {
   "cell_type": "code",
   "execution_count": 36,
   "id": "80694a20",
   "metadata": {},
   "outputs": [
    {
     "data": {
      "text/plain": [
       "Index(['index', 'Order ID', 'Product', 'Quantity Ordered', 'Price Each',\n",
       "       'Order Date', 'Purchase Address', 'month', 'sales'],\n",
       "      dtype='object')"
      ]
     },
     "execution_count": 36,
     "metadata": {},
     "output_type": "execute_result"
    }
   ],
   "source": [
    "all_data.columns"
   ]
  },
  {
   "cell_type": "code",
   "execution_count": 37,
   "id": "107060b7",
   "metadata": {},
   "outputs": [],
   "source": [
    "# first we have to add city column to our data"
   ]
  },
  {
   "cell_type": "code",
   "execution_count": 38,
   "id": "f5e72a3d",
   "metadata": {},
   "outputs": [],
   "source": [
    "all_data['city']=all_data['Purchase Address'].str.split(',').str[1]"
   ]
  },
  {
   "cell_type": "code",
   "execution_count": 39,
   "id": "a91b8894",
   "metadata": {},
   "outputs": [
    {
     "data": {
      "text/html": [
       "<div>\n",
       "<style scoped>\n",
       "    .dataframe tbody tr th:only-of-type {\n",
       "        vertical-align: middle;\n",
       "    }\n",
       "\n",
       "    .dataframe tbody tr th {\n",
       "        vertical-align: top;\n",
       "    }\n",
       "\n",
       "    .dataframe thead th {\n",
       "        text-align: right;\n",
       "    }\n",
       "</style>\n",
       "<table border=\"1\" class=\"dataframe\">\n",
       "  <thead>\n",
       "    <tr style=\"text-align: right;\">\n",
       "      <th></th>\n",
       "      <th>index</th>\n",
       "      <th>Order ID</th>\n",
       "      <th>Product</th>\n",
       "      <th>Quantity Ordered</th>\n",
       "      <th>Price Each</th>\n",
       "      <th>Order Date</th>\n",
       "      <th>Purchase Address</th>\n",
       "      <th>month</th>\n",
       "      <th>sales</th>\n",
       "      <th>city</th>\n",
       "    </tr>\n",
       "  </thead>\n",
       "  <tbody>\n",
       "    <tr>\n",
       "      <th>0</th>\n",
       "      <td>73891</td>\n",
       "      <td>147268</td>\n",
       "      <td>Wired Headphones</td>\n",
       "      <td>1</td>\n",
       "      <td>11.99</td>\n",
       "      <td>2019-01-01 03:07:00</td>\n",
       "      <td>9 Lake St, New York City, NY 10001</td>\n",
       "      <td>1</td>\n",
       "      <td>11.99</td>\n",
       "      <td>New York City</td>\n",
       "    </tr>\n",
       "    <tr>\n",
       "      <th>1</th>\n",
       "      <td>74701</td>\n",
       "      <td>148041</td>\n",
       "      <td>USB-C Charging Cable</td>\n",
       "      <td>1</td>\n",
       "      <td>11.95</td>\n",
       "      <td>2019-01-01 03:40:00</td>\n",
       "      <td>760 Church St, San Francisco, CA 94016</td>\n",
       "      <td>1</td>\n",
       "      <td>11.95</td>\n",
       "      <td>San Francisco</td>\n",
       "    </tr>\n",
       "    <tr>\n",
       "      <th>2</th>\n",
       "      <td>76054</td>\n",
       "      <td>149343</td>\n",
       "      <td>Apple Airpods Headphones</td>\n",
       "      <td>1</td>\n",
       "      <td>150.00</td>\n",
       "      <td>2019-01-01 04:56:00</td>\n",
       "      <td>735 5th St, New York City, NY 10001</td>\n",
       "      <td>1</td>\n",
       "      <td>150.00</td>\n",
       "      <td>New York City</td>\n",
       "    </tr>\n",
       "    <tr>\n",
       "      <th>3</th>\n",
       "      <td>76708</td>\n",
       "      <td>149964</td>\n",
       "      <td>AAA Batteries (4-pack)</td>\n",
       "      <td>1</td>\n",
       "      <td>2.99</td>\n",
       "      <td>2019-01-01 05:53:00</td>\n",
       "      <td>75 Jackson St, Dallas, TX 75001</td>\n",
       "      <td>1</td>\n",
       "      <td>2.99</td>\n",
       "      <td>Dallas</td>\n",
       "    </tr>\n",
       "    <tr>\n",
       "      <th>4</th>\n",
       "      <td>76061</td>\n",
       "      <td>149350</td>\n",
       "      <td>USB-C Charging Cable</td>\n",
       "      <td>2</td>\n",
       "      <td>11.95</td>\n",
       "      <td>2019-01-01 06:03:00</td>\n",
       "      <td>943 2nd St, Atlanta, GA 30301</td>\n",
       "      <td>1</td>\n",
       "      <td>23.90</td>\n",
       "      <td>Atlanta</td>\n",
       "    </tr>\n",
       "  </tbody>\n",
       "</table>\n",
       "</div>"
      ],
      "text/plain": [
       "   index Order ID                   Product  Quantity Ordered  Price Each  \\\n",
       "0  73891   147268          Wired Headphones                 1       11.99   \n",
       "1  74701   148041      USB-C Charging Cable                 1       11.95   \n",
       "2  76054   149343  Apple Airpods Headphones                 1      150.00   \n",
       "3  76708   149964    AAA Batteries (4-pack)                 1        2.99   \n",
       "4  76061   149350      USB-C Charging Cable                 2       11.95   \n",
       "\n",
       "           Order Date                        Purchase Address  month   sales  \\\n",
       "0 2019-01-01 03:07:00      9 Lake St, New York City, NY 10001      1   11.99   \n",
       "1 2019-01-01 03:40:00  760 Church St, San Francisco, CA 94016      1   11.95   \n",
       "2 2019-01-01 04:56:00     735 5th St, New York City, NY 10001      1  150.00   \n",
       "3 2019-01-01 05:53:00         75 Jackson St, Dallas, TX 75001      1    2.99   \n",
       "4 2019-01-01 06:03:00           943 2nd St, Atlanta, GA 30301      1   23.90   \n",
       "\n",
       "             city  \n",
       "0   New York City  \n",
       "1   San Francisco  \n",
       "2   New York City  \n",
       "3          Dallas  \n",
       "4         Atlanta  "
      ]
     },
     "execution_count": 39,
     "metadata": {},
     "output_type": "execute_result"
    }
   ],
   "source": [
    "all_data.head()"
   ]
  },
  {
   "cell_type": "code",
   "execution_count": 40,
   "id": "24fcd5be",
   "metadata": {},
   "outputs": [],
   "source": [
    "group_bycity=all_data.groupby('city')"
   ]
  },
  {
   "cell_type": "code",
   "execution_count": 41,
   "id": "4014550e",
   "metadata": {},
   "outputs": [],
   "source": [
    "list_ofcity=all_data['city'].unique().tolist()"
   ]
  },
  {
   "cell_type": "code",
   "execution_count": 42,
   "id": "2b8d0002",
   "metadata": {},
   "outputs": [
    {
     "data": {
      "text/plain": [
       "list"
      ]
     },
     "execution_count": 42,
     "metadata": {},
     "output_type": "execute_result"
    }
   ],
   "source": [
    "type(list_ofcity)"
   ]
  },
  {
   "cell_type": "code",
   "execution_count": 43,
   "id": "c6355c16",
   "metadata": {},
   "outputs": [
    {
     "name": "stdout",
     "output_type": "stream",
     "text": [
      "total sales in  New York City is 4664317.429999999\n",
      "total sales in  San Francisco is 8262203.909999999\n",
      "total sales in  Dallas is 2767975.4\n",
      "total sales in  Atlanta is 2795498.58\n",
      "total sales in  Boston is 3661642.0099999993\n",
      "total sales in  Seattle is 2747755.4799999995\n",
      "total sales in  Los Angeles is 5452570.799999999\n",
      "total sales in  Portland is 2320490.61\n",
      "total sales in  Austin is 1819581.7499999995\n"
     ]
    }
   ],
   "source": [
    "sales_percity=[]\n",
    "for city in list_ofcity:\n",
    "    print('total sales in '+ city + ' is ' +str(group_bycity.get_group(city)['sales'].sum()))\n",
    "    sales_percity.append(group_bycity.get_group(city)['sales'].sum())"
   ]
  },
  {
   "cell_type": "code",
   "execution_count": 44,
   "id": "6e4d9552",
   "metadata": {},
   "outputs": [
    {
     "data": {
      "image/png": "[encoded data removed]",
      "text/plain": [
       "<Figure size 432x288 with 1 Axes>"
      ]
     },
     "metadata": {
      "needs_background": "light"
     },
     "output_type": "display_data"
    }
   ],
   "source": [
    "plt.bar(list_ofcity,sales_percity)\n",
    "plt.xticks(rotation='vertical')\n",
    "plt.xlabel(\"cities\")\n",
    "plt.ylabel('sales')\n",
    "plt.show()"
   ]
  },
  {
   "cell_type": "markdown",
   "id": "38a39b03",
   "metadata": {},
   "source": [
    "## What time should we display ads?"
   ]
  },
  {
   "cell_type": "code",
   "execution_count": 45,
   "id": "602cb799",
   "metadata": {},
   "outputs": [],
   "source": [
    "## first of all we have to make a column of bought_time\n",
    "## for this first we have to extract time from order date column\n",
    "# for this we have to import date time module\n",
    "import datetime as dt"
   ]
  },
  {
   "cell_type": "code",
   "execution_count": 46,
   "id": "a4077d1d",
   "metadata": {},
   "outputs": [],
   "source": [
    "all_data['bought_time']=all_data['Order Date'].dt.hour"
   ]
  },
  {
   "cell_type": "code",
   "execution_count": 47,
   "id": "58999eba",
   "metadata": {},
   "outputs": [
    {
     "data": {
      "text/html": [
       "<div>\n",
       "<style scoped>\n",
       "    .dataframe tbody tr th:only-of-type {\n",
       "        vertical-align: middle;\n",
       "    }\n",
       "\n",
       "    .dataframe tbody tr th {\n",
       "        vertical-align: top;\n",
       "    }\n",
       "\n",
       "    .dataframe thead th {\n",
       "        text-align: right;\n",
       "    }\n",
       "</style>\n",
       "<table border=\"1\" class=\"dataframe\">\n",
       "  <thead>\n",
       "    <tr style=\"text-align: right;\">\n",
       "      <th></th>\n",
       "      <th>index</th>\n",
       "      <th>Order ID</th>\n",
       "      <th>Product</th>\n",
       "      <th>Quantity Ordered</th>\n",
       "      <th>Price Each</th>\n",
       "      <th>Order Date</th>\n",
       "      <th>Purchase Address</th>\n",
       "      <th>month</th>\n",
       "      <th>sales</th>\n",
       "      <th>city</th>\n",
       "      <th>bought_time</th>\n",
       "    </tr>\n",
       "  </thead>\n",
       "  <tbody>\n",
       "    <tr>\n",
       "      <th>0</th>\n",
       "      <td>73891</td>\n",
       "      <td>147268</td>\n",
       "      <td>Wired Headphones</td>\n",
       "      <td>1</td>\n",
       "      <td>11.99</td>\n",
       "      <td>2019-01-01 03:07:00</td>\n",
       "      <td>9 Lake St, New York City, NY 10001</td>\n",
       "      <td>1</td>\n",
       "      <td>11.99</td>\n",
       "      <td>New York City</td>\n",
       "      <td>3</td>\n",
       "    </tr>\n",
       "    <tr>\n",
       "      <th>1</th>\n",
       "      <td>74701</td>\n",
       "      <td>148041</td>\n",
       "      <td>USB-C Charging Cable</td>\n",
       "      <td>1</td>\n",
       "      <td>11.95</td>\n",
       "      <td>2019-01-01 03:40:00</td>\n",
       "      <td>760 Church St, San Francisco, CA 94016</td>\n",
       "      <td>1</td>\n",
       "      <td>11.95</td>\n",
       "      <td>San Francisco</td>\n",
       "      <td>3</td>\n",
       "    </tr>\n",
       "    <tr>\n",
       "      <th>2</th>\n",
       "      <td>76054</td>\n",
       "      <td>149343</td>\n",
       "      <td>Apple Airpods Headphones</td>\n",
       "      <td>1</td>\n",
       "      <td>150.00</td>\n",
       "      <td>2019-01-01 04:56:00</td>\n",
       "      <td>735 5th St, New York City, NY 10001</td>\n",
       "      <td>1</td>\n",
       "      <td>150.00</td>\n",
       "      <td>New York City</td>\n",
       "      <td>4</td>\n",
       "    </tr>\n",
       "    <tr>\n",
       "      <th>3</th>\n",
       "      <td>76708</td>\n",
       "      <td>149964</td>\n",
       "      <td>AAA Batteries (4-pack)</td>\n",
       "      <td>1</td>\n",
       "      <td>2.99</td>\n",
       "      <td>2019-01-01 05:53:00</td>\n",
       "      <td>75 Jackson St, Dallas, TX 75001</td>\n",
       "      <td>1</td>\n",
       "      <td>2.99</td>\n",
       "      <td>Dallas</td>\n",
       "      <td>5</td>\n",
       "    </tr>\n",
       "    <tr>\n",
       "      <th>4</th>\n",
       "      <td>76061</td>\n",
       "      <td>149350</td>\n",
       "      <td>USB-C Charging Cable</td>\n",
       "      <td>2</td>\n",
       "      <td>11.95</td>\n",
       "      <td>2019-01-01 06:03:00</td>\n",
       "      <td>943 2nd St, Atlanta, GA 30301</td>\n",
       "      <td>1</td>\n",
       "      <td>23.90</td>\n",
       "      <td>Atlanta</td>\n",
       "      <td>6</td>\n",
       "    </tr>\n",
       "  </tbody>\n",
       "</table>\n",
       "</div>"
      ],
      "text/plain": [
       "   index Order ID                   Product  Quantity Ordered  Price Each  \\\n",
       "0  73891   147268          Wired Headphones                 1       11.99   \n",
       "1  74701   148041      USB-C Charging Cable                 1       11.95   \n",
       "2  76054   149343  Apple Airpods Headphones                 1      150.00   \n",
       "3  76708   149964    AAA Batteries (4-pack)                 1        2.99   \n",
       "4  76061   149350      USB-C Charging Cable                 2       11.95   \n",
       "\n",
       "           Order Date                        Purchase Address  month   sales  \\\n",
       "0 2019-01-01 03:07:00      9 Lake St, New York City, NY 10001      1   11.99   \n",
       "1 2019-01-01 03:40:00  760 Church St, San Francisco, CA 94016      1   11.95   \n",
       "2 2019-01-01 04:56:00     735 5th St, New York City, NY 10001      1  150.00   \n",
       "3 2019-01-01 05:53:00         75 Jackson St, Dallas, TX 75001      1    2.99   \n",
       "4 2019-01-01 06:03:00           943 2nd St, Atlanta, GA 30301      1   23.90   \n",
       "\n",
       "             city  bought_time  \n",
       "0   New York City            3  \n",
       "1   San Francisco            3  \n",
       "2   New York City            4  \n",
       "3          Dallas            5  \n",
       "4         Atlanta            6  "
      ]
     },
     "execution_count": 47,
     "metadata": {},
     "output_type": "execute_result"
    }
   ],
   "source": [
    "all_data.head()"
   ]
  },
  {
   "cell_type": "code",
   "execution_count": 48,
   "id": "42332902",
   "metadata": {},
   "outputs": [
    {
     "data": {
      "text/plain": [
       "24"
      ]
     },
     "execution_count": 48,
     "metadata": {},
     "output_type": "execute_result"
    }
   ],
   "source": [
    "all_data['bought_time'].nunique()"
   ]
  },
  {
   "cell_type": "code",
   "execution_count": 49,
   "id": "3bde2d07",
   "metadata": {},
   "outputs": [],
   "source": [
    "bought_time_list=all_data['bought_time'].unique().tolist()\n",
    "bought_time_list.sort()"
   ]
  },
  {
   "cell_type": "code",
   "execution_count": 50,
   "id": "c8582c7a",
   "metadata": {},
   "outputs": [],
   "source": [
    "groupby_time=all_data.groupby('bought_time')"
   ]
  },
  {
   "cell_type": "code",
   "execution_count": 51,
   "id": "f3e6cbc6",
   "metadata": {},
   "outputs": [
    {
     "name": "stdout",
     "output_type": "stream",
     "text": [
      "sales in this particular hour 0 is 713721.27\n",
      "sales in this particular hour 1 is 460866.88\n",
      "sales in this particular hour 2 is 234851.44000000003\n",
      "sales in this particular hour 3 is 145757.89\n",
      "sales in this particular hour 4 is 162661.00999999998\n",
      "sales in this particular hour 5 is 230679.81999999998\n",
      "sales in this particular hour 6 is 448113.0\n",
      "sales in this particular hour 7 is 744854.1199999999\n",
      "sales in this particular hour 8 is 1192348.9699999997\n",
      "sales in this particular hour 9 is 1639030.5799999998\n",
      "sales in this particular hour 10 is 1944286.77\n",
      "sales in this particular hour 11 is 2300610.2399999998\n",
      "sales in this particular hour 12 is 2316821.34\n",
      "sales in this particular hour 13 is 2155389.8\n",
      "sales in this particular hour 14 is 2083672.7299999995\n",
      "sales in this particular hour 15 is 1941549.5999999999\n",
      "sales in this particular hour 16 is 1904601.31\n",
      "sales in this particular hour 17 is 2129361.61\n",
      "sales in this particular hour 18 is 2219348.3\n",
      "sales in this particular hour 19 is 2412938.54\n",
      "sales in this particular hour 20 is 2281716.2399999998\n",
      "sales in this particular hour 21 is 2042000.8599999999\n",
      "sales in this particular hour 22 is 1607549.21\n",
      "sales in this particular hour 23 is 1179304.44\n"
     ]
    }
   ],
   "source": [
    "sales_perhour=[]\n",
    "for time in bought_time_list:\n",
    "    print('sales in this particular hour ' + str(time) + ' is '+ str(groupby_time.get_group(time)['sales'].sum()))\n",
    "    sales_perhour.append(groupby_time.get_group(time)['sales'].sum())"
   ]
  },
  {
   "cell_type": "code",
   "execution_count": 52,
   "id": "d600c0df",
   "metadata": {},
   "outputs": [
    {
     "data": {
      "image/png": "[encoded data removed]",
      "text/plain": [
       "<Figure size 432x288 with 1 Axes>"
      ]
     },
     "metadata": {
      "needs_background": "light"
     },
     "output_type": "display_data"
    }
   ],
   "source": [
    "plt.bar(bought_time_list,sales_perhour)\n",
    "plt.xticks(rotation='vertical')\n",
    "plt.xlabel('time of buying product (hrs)')\n",
    "plt.ylabel('sales')\n",
    "plt.show()"
   ]
  },
  {
   "cell_type": "markdown",
   "id": "b1e79787",
   "metadata": {},
   "source": [
    "#### So the sales is maximum at two peaks around 12 noon and 7:00 PM in the evening. This means people are more active at this time, so we should advertise at this time."
   ]
  },
  {
   "cell_type": "markdown",
   "id": "0d42ce0f",
   "metadata": {},
   "source": [
    "# What product are most often sold together?"
   ]
  },
  {
   "cell_type": "code",
   "execution_count": 53,
   "id": "ca75bb6e",
   "metadata": {},
   "outputs": [
    {
     "data": {
      "text/plain": [
       "19"
      ]
     },
     "execution_count": 53,
     "metadata": {},
     "output_type": "execute_result"
    }
   ],
   "source": [
    "# lets check how many different product are there in product list\n",
    "all_data['Product'].nunique()"
   ]
  },
  {
   "cell_type": "code",
   "execution_count": 54,
   "id": "747dc724",
   "metadata": {},
   "outputs": [],
   "source": [
    "# so there are 19 different product"
   ]
  },
  {
   "cell_type": "code",
   "execution_count": 55,
   "id": "ea89c1a3",
   "metadata": {},
   "outputs": [],
   "source": [
    "# lets check which of them are sold together. to check this we know that the items sold together must have same order id"
   ]
  },
  {
   "cell_type": "code",
   "execution_count": 56,
   "id": "c40ab4ac",
   "metadata": {},
   "outputs": [],
   "source": [
    "# we will find the duplicates order id \n",
    "df=all_data[all_data['Order ID'].duplicated(keep=False)]"
   ]
  },
  {
   "cell_type": "code",
   "execution_count": 62,
   "id": "9892b06a",
   "metadata": {},
   "outputs": [
    {
     "name": "stderr",
     "output_type": "stream",
     "text": [
      "C:\\Users\\User\\AppData\\Local\\Temp/ipykernel_6956/426880935.py:1: SettingWithCopyWarning: \n",
      "A value is trying to be set on a copy of a slice from a DataFrame.\n",
      "Try using .loc[row_indexer,col_indexer] = value instead\n",
      "\n",
      "See the caveats in the documentation: https://pandas.pydata.org/pandas-docs/stable/user_guide/indexing.html#returning-a-view-versus-a-copy\n",
      "  df['grouped']=df.groupby('Order ID')['Product'].transform(lambda a:','.join(a))\n"
     ]
    },
    {
     "data": {
      "text/html": [
       "<div>\n",
       "<style scoped>\n",
       "    .dataframe tbody tr th:only-of-type {\n",
       "        vertical-align: middle;\n",
       "    }\n",
       "\n",
       "    .dataframe tbody tr th {\n",
       "        vertical-align: top;\n",
       "    }\n",
       "\n",
       "    .dataframe thead th {\n",
       "        text-align: right;\n",
       "    }\n",
       "</style>\n",
       "<table border=\"1\" class=\"dataframe\">\n",
       "  <thead>\n",
       "    <tr style=\"text-align: right;\">\n",
       "      <th></th>\n",
       "      <th>index</th>\n",
       "      <th>Order ID</th>\n",
       "      <th>Product</th>\n",
       "      <th>Quantity Ordered</th>\n",
       "      <th>Price Each</th>\n",
       "      <th>Order Date</th>\n",
       "      <th>Purchase Address</th>\n",
       "      <th>month</th>\n",
       "      <th>sales</th>\n",
       "      <th>city</th>\n",
       "      <th>bought_time</th>\n",
       "      <th>grouped</th>\n",
       "    </tr>\n",
       "  </thead>\n",
       "  <tbody>\n",
       "    <tr>\n",
       "      <th>11</th>\n",
       "      <td>71310</td>\n",
       "      <td>144804</td>\n",
       "      <td>iPhone</td>\n",
       "      <td>1</td>\n",
       "      <td>700.00</td>\n",
       "      <td>2019-01-01 07:29:00</td>\n",
       "      <td>628 Lake St, New York City, NY 10001</td>\n",
       "      <td>1</td>\n",
       "      <td>700.00</td>\n",
       "      <td>New York City</td>\n",
       "      <td>7</td>\n",
       "      <td>iPhone,Wired Headphones</td>\n",
       "    </tr>\n",
       "    <tr>\n",
       "      <th>12</th>\n",
       "      <td>71311</td>\n",
       "      <td>144804</td>\n",
       "      <td>Wired Headphones</td>\n",
       "      <td>1</td>\n",
       "      <td>11.99</td>\n",
       "      <td>2019-01-01 07:29:00</td>\n",
       "      <td>628 Lake St, New York City, NY 10001</td>\n",
       "      <td>1</td>\n",
       "      <td>11.99</td>\n",
       "      <td>New York City</td>\n",
       "      <td>7</td>\n",
       "      <td>iPhone,Wired Headphones</td>\n",
       "    </tr>\n",
       "    <tr>\n",
       "      <th>65</th>\n",
       "      <td>74737</td>\n",
       "      <td>148074</td>\n",
       "      <td>USB-C Charging Cable</td>\n",
       "      <td>1</td>\n",
       "      <td>11.95</td>\n",
       "      <td>2019-01-01 11:25:00</td>\n",
       "      <td>6 Johnson St, Atlanta, GA 30301</td>\n",
       "      <td>1</td>\n",
       "      <td>11.95</td>\n",
       "      <td>Atlanta</td>\n",
       "      <td>11</td>\n",
       "      <td>USB-C Charging Cable,Google Phone</td>\n",
       "    </tr>\n",
       "    <tr>\n",
       "      <th>66</th>\n",
       "      <td>74736</td>\n",
       "      <td>148074</td>\n",
       "      <td>Google Phone</td>\n",
       "      <td>1</td>\n",
       "      <td>600.00</td>\n",
       "      <td>2019-01-01 11:25:00</td>\n",
       "      <td>6 Johnson St, Atlanta, GA 30301</td>\n",
       "      <td>1</td>\n",
       "      <td>600.00</td>\n",
       "      <td>Atlanta</td>\n",
       "      <td>11</td>\n",
       "      <td>USB-C Charging Cable,Google Phone</td>\n",
       "    </tr>\n",
       "    <tr>\n",
       "      <th>79</th>\n",
       "      <td>75123</td>\n",
       "      <td>148450</td>\n",
       "      <td>iPhone</td>\n",
       "      <td>1</td>\n",
       "      <td>700.00</td>\n",
       "      <td>2019-01-01 12:02:00</td>\n",
       "      <td>761 Lakeview St, Dallas, TX 75001</td>\n",
       "      <td>1</td>\n",
       "      <td>700.00</td>\n",
       "      <td>Dallas</td>\n",
       "      <td>12</td>\n",
       "      <td>iPhone,Lightning Charging Cable</td>\n",
       "    </tr>\n",
       "  </tbody>\n",
       "</table>\n",
       "</div>"
      ],
      "text/plain": [
       "    index Order ID               Product  Quantity Ordered  Price Each  \\\n",
       "11  71310   144804                iPhone                 1      700.00   \n",
       "12  71311   144804      Wired Headphones                 1       11.99   \n",
       "65  74737   148074  USB-C Charging Cable                 1       11.95   \n",
       "66  74736   148074          Google Phone                 1      600.00   \n",
       "79  75123   148450                iPhone                 1      700.00   \n",
       "\n",
       "            Order Date                      Purchase Address  month   sales  \\\n",
       "11 2019-01-01 07:29:00  628 Lake St, New York City, NY 10001      1  700.00   \n",
       "12 2019-01-01 07:29:00  628 Lake St, New York City, NY 10001      1   11.99   \n",
       "65 2019-01-01 11:25:00       6 Johnson St, Atlanta, GA 30301      1   11.95   \n",
       "66 2019-01-01 11:25:00       6 Johnson St, Atlanta, GA 30301      1  600.00   \n",
       "79 2019-01-01 12:02:00     761 Lakeview St, Dallas, TX 75001      1  700.00   \n",
       "\n",
       "              city  bought_time                            grouped  \n",
       "11   New York City            7            iPhone,Wired Headphones  \n",
       "12   New York City            7            iPhone,Wired Headphones  \n",
       "65         Atlanta           11  USB-C Charging Cable,Google Phone  \n",
       "66         Atlanta           11  USB-C Charging Cable,Google Phone  \n",
       "79          Dallas           12    iPhone,Lightning Charging Cable  "
      ]
     },
     "execution_count": 62,
     "metadata": {},
     "output_type": "execute_result"
    }
   ],
   "source": [
    "df['grouped']=df.groupby('Order ID')['Product'].transform(lambda a:','.join(a))\n",
    "df.head()"
   ]
  },
  {
   "cell_type": "code",
   "execution_count": 71,
   "id": "cc83bbcd",
   "metadata": {},
   "outputs": [],
   "source": [
    "df=df[['Order ID','grouped']]"
   ]
  },
  {
   "cell_type": "code",
   "execution_count": 72,
   "id": "3202ebf3",
   "metadata": {
    "scrolled": true
   },
   "outputs": [
    {
     "data": {
      "text/html": [
       "<div>\n",
       "<style scoped>\n",
       "    .dataframe tbody tr th:only-of-type {\n",
       "        vertical-align: middle;\n",
       "    }\n",
       "\n",
       "    .dataframe tbody tr th {\n",
       "        vertical-align: top;\n",
       "    }\n",
       "\n",
       "    .dataframe thead th {\n",
       "        text-align: right;\n",
       "    }\n",
       "</style>\n",
       "<table border=\"1\" class=\"dataframe\">\n",
       "  <thead>\n",
       "    <tr style=\"text-align: right;\">\n",
       "      <th></th>\n",
       "      <th>Order ID</th>\n",
       "      <th>grouped</th>\n",
       "    </tr>\n",
       "  </thead>\n",
       "  <tbody>\n",
       "    <tr>\n",
       "      <th>0</th>\n",
       "      <td>144804</td>\n",
       "      <td>iPhone,Wired Headphones</td>\n",
       "    </tr>\n",
       "    <tr>\n",
       "      <th>1</th>\n",
       "      <td>144804</td>\n",
       "      <td>iPhone,Wired Headphones</td>\n",
       "    </tr>\n",
       "    <tr>\n",
       "      <th>2</th>\n",
       "      <td>148074</td>\n",
       "      <td>USB-C Charging Cable,Google Phone</td>\n",
       "    </tr>\n",
       "    <tr>\n",
       "      <th>3</th>\n",
       "      <td>148074</td>\n",
       "      <td>USB-C Charging Cable,Google Phone</td>\n",
       "    </tr>\n",
       "    <tr>\n",
       "      <th>4</th>\n",
       "      <td>148450</td>\n",
       "      <td>iPhone,Lightning Charging Cable</td>\n",
       "    </tr>\n",
       "  </tbody>\n",
       "</table>\n",
       "</div>"
      ],
      "text/plain": [
       "  Order ID                            grouped\n",
       "0   144804            iPhone,Wired Headphones\n",
       "1   144804            iPhone,Wired Headphones\n",
       "2   148074  USB-C Charging Cable,Google Phone\n",
       "3   148074  USB-C Charging Cable,Google Phone\n",
       "4   148450    iPhone,Lightning Charging Cable"
      ]
     },
     "execution_count": 72,
     "metadata": {},
     "output_type": "execute_result"
    }
   ],
   "source": [
    "df.head()"
   ]
  },
  {
   "cell_type": "code",
   "execution_count": 74,
   "id": "8da068e4",
   "metadata": {},
   "outputs": [
    {
     "data": {
      "text/plain": [
       "(14649, 2)"
      ]
     },
     "execution_count": 74,
     "metadata": {},
     "output_type": "execute_result"
    }
   ],
   "source": [
    "df.shape"
   ]
  },
  {
   "cell_type": "code",
   "execution_count": 73,
   "id": "a7f4bcbe",
   "metadata": {},
   "outputs": [
    {
     "data": {
      "text/plain": [
       "418"
      ]
     },
     "execution_count": 73,
     "metadata": {},
     "output_type": "execute_result"
    }
   ],
   "source": [
    "df['grouped'].nunique()"
   ]
  },
  {
   "cell_type": "code",
   "execution_count": 79,
   "id": "ccea2c82",
   "metadata": {},
   "outputs": [],
   "source": [
    "dic_of_highestsell=dict(df['grouped'].value_counts().head(8))"
   ]
  },
  {
   "cell_type": "code",
   "execution_count": 84,
   "id": "d9d9bf86",
   "metadata": {},
   "outputs": [
    {
     "data": {
      "text/plain": [
       "['Lightning Charging Cable,iPhone',\n",
       " 'USB-C Charging Cable,Google Phone',\n",
       " 'iPhone,Lightning Charging Cable',\n",
       " 'Google Phone,USB-C Charging Cable',\n",
       " 'Wired Headphones,iPhone',\n",
       " 'iPhone,Wired Headphones',\n",
       " 'Vareebadd Phone,USB-C Charging Cable',\n",
       " 'Google Phone,Wired Headphones']"
      ]
     },
     "execution_count": 84,
     "metadata": {},
     "output_type": "execute_result"
    }
   ],
   "source": [
    "list_ofgrouped= list(dic_of_highestsell.keys())\n",
    "list_ofgrouped"
   ]
  },
  {
   "cell_type": "code",
   "execution_count": 86,
   "id": "aea85939",
   "metadata": {},
   "outputs": [
    {
     "data": {
      "text/plain": [
       "[916, 906, 866, 830, 382, 366, 324, 312]"
      ]
     },
     "execution_count": 86,
     "metadata": {},
     "output_type": "execute_result"
    }
   ],
   "source": [
    "sell_ofgroup=list(dic_of_highestsell.values())\n",
    "sell_ofgroup"
   ]
  },
  {
   "cell_type": "code",
   "execution_count": 87,
   "id": "eb269acf",
   "metadata": {},
   "outputs": [
    {
     "data": {
      "image/png": "[encoded data removed]",
      "text/plain": [
       "<Figure size 432x288 with 1 Axes>"
      ]
     },
     "metadata": {
      "needs_background": "light"
     },
     "output_type": "display_data"
    }
   ],
   "source": [
    "plt.bar(list_ofgrouped,sell_ofgroup)\n",
    "plt.xlabel('group of products')\n",
    "plt.ylabel('count of products')\n",
    "plt.xticks(rotation='vertical')\n",
    "plt.show()"
   ]
  },
  {
   "cell_type": "markdown",
   "id": "db6c5cdb",
   "metadata": {},
   "source": [
    "#### so most buying pair product is lightning charging cable, iphone and further so we can say that people are willing to buy these product together and we can give offers on these combo product."
   ]
  },
  {
   "cell_type": "markdown",
   "id": "589815c5",
   "metadata": {},
   "source": [
    "# what product sold the most?"
   ]
  },
  {
   "cell_type": "code",
   "execution_count": 90,
   "id": "9bd4d93c",
   "metadata": {},
   "outputs": [
    {
     "data": {
      "text/plain": [
       "19"
      ]
     },
     "execution_count": 90,
     "metadata": {},
     "output_type": "execute_result"
    }
   ],
   "source": [
    "#we can directly count the number of unique values\n",
    "# so total product are\n",
    "all_data['Product'].nunique()"
   ]
  },
  {
   "cell_type": "code",
   "execution_count": 116,
   "id": "840abaf0",
   "metadata": {},
   "outputs": [],
   "source": [
    "dict_ofproduct=dict(all_data['Product'].value_counts().head(19))"
   ]
  },
  {
   "cell_type": "code",
   "execution_count": 117,
   "id": "95a83be3",
   "metadata": {},
   "outputs": [],
   "source": [
    "list_ofproduct=list(dict_ofproduct.keys())"
   ]
  },
  {
   "cell_type": "code",
   "execution_count": 118,
   "id": "58c945f2",
   "metadata": {},
   "outputs": [],
   "source": [
    "no_ofproducts=list(dict_ofproduct.values())"
   ]
  },
  {
   "cell_type": "code",
   "execution_count": 119,
   "id": "1c46ed1b",
   "metadata": {},
   "outputs": [
    {
     "data": {
      "image/png": "[encoded data removed]",
      "text/plain": [
       "<Figure size 432x288 with 1 Axes>"
      ]
     },
     "metadata": {
      "needs_background": "light"
     },
     "output_type": "display_data"
    }
   ],
   "source": [
    "plt.bar(list_ofproduct,no_ofproducts)\n",
    "plt.xlabel('Products')\n",
    "plt.ylabel('quantity')\n",
    "plt.xticks(rotation='vertical')\n",
    "plt.show( )"
   ]
  },
  {
   "cell_type": "code",
   "execution_count": 120,
   "id": "7cd1478e",
   "metadata": {},
   "outputs": [],
   "source": [
    "# lets draw a graph with two y axis 'Price' and 'quantity'"
   ]
  },
  {
   "cell_type": "code",
   "execution_count": 121,
   "id": "edb721c3",
   "metadata": {},
   "outputs": [
    {
     "data": {
      "text/plain": [
       "['USB-C Charging Cable',\n",
       " 'Lightning Charging Cable',\n",
       " 'AAA Batteries (4-pack)',\n",
       " 'AA Batteries (4-pack)',\n",
       " 'Wired Headphones',\n",
       " 'Apple Airpods Headphones',\n",
       " 'Bose SoundSport Headphones',\n",
       " '27in FHD Monitor',\n",
       " 'iPhone',\n",
       " '27in 4K Gaming Monitor',\n",
       " '34in Ultrawide Monitor',\n",
       " 'Google Phone',\n",
       " 'Flatscreen TV',\n",
       " 'Macbook Pro Laptop',\n",
       " 'ThinkPad Laptop',\n",
       " '20in Monitor',\n",
       " 'Vareebadd Phone',\n",
       " 'LG Washing Machine',\n",
       " 'LG Dryer']"
      ]
     },
     "execution_count": 121,
     "metadata": {},
     "output_type": "execute_result"
    }
   ],
   "source": [
    "list_ofproduct"
   ]
  },
  {
   "cell_type": "code",
   "execution_count": 122,
   "id": "692b5d44",
   "metadata": {},
   "outputs": [],
   "source": [
    "pricelist=[]\n",
    "for product in list_ofproduct:\n",
    "    price=all_data[all_data['Product']==product]['Price Each'].mean()\n",
    "    pricelist.append(price)"
   ]
  },
  {
   "cell_type": "code",
   "execution_count": 123,
   "id": "68e2ef50",
   "metadata": {},
   "outputs": [
    {
     "data": {
      "text/plain": [
       "[11.95,\n",
       " 14.949999999999996,\n",
       " 2.990000000000001,\n",
       " 3.840000000000001,\n",
       " 11.990000000000002,\n",
       " 150.0,\n",
       " 99.99,\n",
       " 149.99,\n",
       " 700.0,\n",
       " 389.98999999999995,\n",
       " 379.9899999999999,\n",
       " 600.0,\n",
       " 300.0,\n",
       " 1700.0,\n",
       " 999.9899999999999,\n",
       " 109.99,\n",
       " 400.0,\n",
       " 600.0,\n",
       " 600.0]"
      ]
     },
     "execution_count": 123,
     "metadata": {},
     "output_type": "execute_result"
    }
   ],
   "source": [
    "pricelist"
   ]
  },
  {
   "cell_type": "code",
   "execution_count": 126,
   "id": "fc314d92",
   "metadata": {},
   "outputs": [
    {
     "name": "stderr",
     "output_type": "stream",
     "text": [
      "C:\\Users\\User\\AppData\\Local\\Temp/ipykernel_6956/1489266620.py:5: UserWarning: FixedFormatter should only be used together with FixedLocator\n",
      "  ax1.set_xticklabels(list_ofproduct,rotation='vertical',size=10)\n"
     ]
    },
    {
     "data": {
      "image/png": "[encoded data removed]",
      "text/plain": [
       "<Figure size 432x288 with 2 Axes>"
      ]
     },
     "metadata": {
      "needs_background": "light"
     },
     "output_type": "display_data"
    }
   ],
   "source": [
    "fig, ax1= plt.subplots()\n",
    "ax2=ax1.twinx()\n",
    "ax1.plot(list_ofproduct,pricelist)\n",
    "ax2.bar(list_ofproduct,no_ofproducts)\n",
    "ax1.set_xticklabels(list_ofproduct,rotation='vertical',size=10)\n",
    "plt.show()"
   ]
  },
  {
   "cell_type": "markdown",
   "id": "924f267f",
   "metadata": {},
   "source": [
    "## we can say that people are afraid to buy expensive product and cheap product are easily buying"
   ]
  }
 ],
 "metadata": {
  "kernelspec": {
   "display_name": "Python 3 (ipykernel)",
   "language": "python",
   "name": "python3"
  },
  "language_info": {
   "codemirror_mode": {
    "name": "ipython",
    "version": 3
   },
   "file_extension": ".py",
   "mimetype": "text/x-python",
   "name": "python",
   "nbconvert_exporter": "python",
   "pygments_lexer": "ipython3",
   "version": "3.10.1"
  }
 },
 "nbformat": 4,
 "nbformat_minor": 5
}
