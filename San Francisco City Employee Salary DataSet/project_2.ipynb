{
 "cells": [
  {
   "cell_type": "code",
   "execution_count": 1,
   "id": "2b573448",
   "metadata": {},
   "outputs": [],
   "source": [
    "##### Questions are as follows.\n",
    "# 1.  Display Top 10 Rows of The Dataset\n",
    "# 2. Check Last 10 Rows of The Dataset\n",
    "# 3. Find Shape of Our Dataset (Number of Rows And Number of Columns)\n",
    "# 4.  Getting Information About Our Dataset Like Total Number Rows, Total Number of Columns, Datatypes of Each Column And Memory Requirement\n",
    "# 5. Check Null Values In The Dataset\n",
    "# 6. Drop ID, Notes, Agency, and Status Columns\n",
    "# 7. Get Overall Statistics About The Dataframe\n",
    "# 8. Find Occurrence of The Employee Names  (Top 5)\n",
    "# 9. Find The Number of Unique Job Titles\n",
    "# 10.Total Number of Job Titles Contain Captain\n",
    "# 11. Display All the Employee Names From Fire Department\n",
    "# 12. Find Minimum, Maximum, and Average BasePay\n",
    "# 13. Replace 'Not Provided' in EmployeeName' Column to NaN \n",
    "# 14. Drop The Rows Having 5 Missing Values\n",
    "# 15. Find Job Title of ALBERT PARDINI\n",
    "# 16. How Much ALBERT PARDINI Make (Include Benefits)?\n",
    "# 17.Display Name of The Person Having The Highest BasePay\n",
    "# 18.Find Average BasePay of All Employee Per Year \n",
    "# 19. Find Average BasePay of All Employee Per JobTitle \n",
    "# 20. Find Average BasePay of Employee Having Job Title ACCOUNTANT  \n",
    "# 21. Find Top 5 Most Common Jobs"
   ]
  },
  {
   "cell_type": "code",
   "execution_count": 2,
   "id": "4f6c0e1e",
   "metadata": {
    "scrolled": true
   },
   "outputs": [
    {
     "name": "stderr",
     "output_type": "stream",
     "text": [
      "C:\\Users\\User\\AppData\\Local\\Programs\\Python\\Python310\\lib\\site-packages\\IPython\\core\\interactiveshell.py:3457: DtypeWarning: Columns (3,4,5,6,12) have mixed types.Specify dtype option on import or set low_memory=False.\n",
      "  exec(code_obj, self.user_global_ns, self.user_ns)\n"
     ]
    }
   ],
   "source": [
    "import pandas as pd\n",
    "df=pd.read_csv('Salaries.csv')\n"
   ]
  },
  {
   "cell_type": "code",
   "execution_count": 3,
   "id": "85315829",
   "metadata": {},
   "outputs": [],
   "source": [
    "import numpy as np\n",
    "df=df.replace('Not Provided',np.NaN)\n",
    "df=df.fillna(0)"
   ]
  },
  {
   "cell_type": "code",
   "execution_count": 4,
   "id": "5c2ae4c0",
   "metadata": {},
   "outputs": [
    {
     "data": {
      "text/html": [
       "<div>\n",
       "<style scoped>\n",
       "    .dataframe tbody tr th:only-of-type {\n",
       "        vertical-align: middle;\n",
       "    }\n",
       "\n",
       "    .dataframe tbody tr th {\n",
       "        vertical-align: top;\n",
       "    }\n",
       "\n",
       "    .dataframe thead th {\n",
       "        text-align: right;\n",
       "    }\n",
       "</style>\n",
       "<table border=\"1\" class=\"dataframe\">\n",
       "  <thead>\n",
       "    <tr style=\"text-align: right;\">\n",
       "      <th></th>\n",
       "      <th>Id</th>\n",
       "      <th>EmployeeName</th>\n",
       "      <th>JobTitle</th>\n",
       "      <th>BasePay</th>\n",
       "      <th>OvertimePay</th>\n",
       "      <th>OtherPay</th>\n",
       "      <th>Benefits</th>\n",
       "      <th>TotalPay</th>\n",
       "      <th>TotalPayBenefits</th>\n",
       "      <th>Year</th>\n",
       "      <th>Notes</th>\n",
       "      <th>Agency</th>\n",
       "      <th>Status</th>\n",
       "    </tr>\n",
       "  </thead>\n",
       "  <tbody>\n",
       "    <tr>\n",
       "      <th>0</th>\n",
       "      <td>1</td>\n",
       "      <td>NATHANIEL FORD</td>\n",
       "      <td>GENERAL MANAGER-METROPOLITAN TRANSIT AUTHORITY</td>\n",
       "      <td>167411.18</td>\n",
       "      <td>0.0</td>\n",
       "      <td>400184.25</td>\n",
       "      <td>0</td>\n",
       "      <td>567595.43</td>\n",
       "      <td>567595.43</td>\n",
       "      <td>2011</td>\n",
       "      <td>0.0</td>\n",
       "      <td>San Francisco</td>\n",
       "      <td>0</td>\n",
       "    </tr>\n",
       "    <tr>\n",
       "      <th>1</th>\n",
       "      <td>2</td>\n",
       "      <td>GARY JIMENEZ</td>\n",
       "      <td>CAPTAIN III (POLICE DEPARTMENT)</td>\n",
       "      <td>155966.02</td>\n",
       "      <td>245131.88</td>\n",
       "      <td>137811.38</td>\n",
       "      <td>0</td>\n",
       "      <td>538909.28</td>\n",
       "      <td>538909.28</td>\n",
       "      <td>2011</td>\n",
       "      <td>0.0</td>\n",
       "      <td>San Francisco</td>\n",
       "      <td>0</td>\n",
       "    </tr>\n",
       "    <tr>\n",
       "      <th>2</th>\n",
       "      <td>3</td>\n",
       "      <td>ALBERT PARDINI</td>\n",
       "      <td>CAPTAIN III (POLICE DEPARTMENT)</td>\n",
       "      <td>212739.13</td>\n",
       "      <td>106088.18</td>\n",
       "      <td>16452.6</td>\n",
       "      <td>0</td>\n",
       "      <td>335279.91</td>\n",
       "      <td>335279.91</td>\n",
       "      <td>2011</td>\n",
       "      <td>0.0</td>\n",
       "      <td>San Francisco</td>\n",
       "      <td>0</td>\n",
       "    </tr>\n",
       "  </tbody>\n",
       "</table>\n",
       "</div>"
      ],
      "text/plain": [
       "   Id    EmployeeName                                        JobTitle  \\\n",
       "0   1  NATHANIEL FORD  GENERAL MANAGER-METROPOLITAN TRANSIT AUTHORITY   \n",
       "1   2    GARY JIMENEZ                 CAPTAIN III (POLICE DEPARTMENT)   \n",
       "2   3  ALBERT PARDINI                 CAPTAIN III (POLICE DEPARTMENT)   \n",
       "\n",
       "     BasePay OvertimePay   OtherPay Benefits   TotalPay  TotalPayBenefits  \\\n",
       "0  167411.18         0.0  400184.25        0  567595.43         567595.43   \n",
       "1  155966.02   245131.88  137811.38        0  538909.28         538909.28   \n",
       "2  212739.13   106088.18    16452.6        0  335279.91         335279.91   \n",
       "\n",
       "   Year  Notes         Agency Status  \n",
       "0  2011    0.0  San Francisco      0  \n",
       "1  2011    0.0  San Francisco      0  \n",
       "2  2011    0.0  San Francisco      0  "
      ]
     },
     "execution_count": 4,
     "metadata": {},
     "output_type": "execute_result"
    }
   ],
   "source": [
    "df.head(3)"
   ]
  },
  {
   "cell_type": "markdown",
   "id": "3194434e",
   "metadata": {},
   "source": [
    "# How have salaries changed over time between different groups of people?"
   ]
  },
  {
   "cell_type": "code",
   "execution_count": 5,
   "id": "d80838b1",
   "metadata": {},
   "outputs": [
    {
     "data": {
      "text/plain": [
       "(148654, 13)"
      ]
     },
     "execution_count": 5,
     "metadata": {},
     "output_type": "execute_result"
    }
   ],
   "source": [
    "df.shape"
   ]
  },
  {
   "cell_type": "code",
   "execution_count": 6,
   "id": "f116b4ba",
   "metadata": {
    "scrolled": true
   },
   "outputs": [
    {
     "data": {
      "text/plain": [
       "Index(['Id', 'EmployeeName', 'JobTitle', 'BasePay', 'OvertimePay', 'OtherPay',\n",
       "       'Benefits', 'TotalPay', 'TotalPayBenefits', 'Year', 'Notes', 'Agency',\n",
       "       'Status'],\n",
       "      dtype='object')"
      ]
     },
     "execution_count": 6,
     "metadata": {},
     "output_type": "execute_result"
    }
   ],
   "source": [
    "df.columns"
   ]
  },
  {
   "cell_type": "code",
   "execution_count": 7,
   "id": "2444080c",
   "metadata": {},
   "outputs": [
    {
     "data": {
      "text/plain": [
       "array([2011, 2012, 2013, 2014], dtype=int64)"
      ]
     },
     "execution_count": 7,
     "metadata": {},
     "output_type": "execute_result"
    }
   ],
   "source": [
    "df['Year'].unique()"
   ]
  },
  {
   "cell_type": "code",
   "execution_count": 8,
   "id": "08d3a72d",
   "metadata": {},
   "outputs": [],
   "source": [
    "group_byyear=df.groupby('Year')"
   ]
  },
  {
   "cell_type": "code",
   "execution_count": 9,
   "id": "771e59fd",
   "metadata": {},
   "outputs": [],
   "source": [
    "g2011=group_byyear.get_group(2011)"
   ]
  },
  {
   "cell_type": "code",
   "execution_count": 10,
   "id": "84e01e3f",
   "metadata": {},
   "outputs": [],
   "source": [
    "g2012=group_byyear.get_group(2012)"
   ]
  },
  {
   "cell_type": "code",
   "execution_count": 11,
   "id": "309a3e78",
   "metadata": {},
   "outputs": [],
   "source": [
    "g2013=group_byyear.get_group(2013)"
   ]
  },
  {
   "cell_type": "code",
   "execution_count": 12,
   "id": "2c060e13",
   "metadata": {},
   "outputs": [],
   "source": [
    "g2014=group_byyear.get_group(2014)"
   ]
  },
  {
   "cell_type": "code",
   "execution_count": 13,
   "id": "ebc34554",
   "metadata": {},
   "outputs": [],
   "source": [
    "lst=[]\n",
    "lst.append(g2011['TotalPay'].mean())\n",
    "lst.append(g2012['TotalPay'].mean())\n",
    "lst.append(g2013['TotalPay'].mean())\n",
    "lst.append(g2014['TotalPay'].mean())"
   ]
  },
  {
   "cell_type": "code",
   "execution_count": 14,
   "id": "432bab0c",
   "metadata": {},
   "outputs": [
    {
     "data": {
      "text/plain": [
       "[71744.10387123538, 74113.26226513626, 77611.44314205181, 75463.91814023031]"
      ]
     },
     "execution_count": 14,
     "metadata": {},
     "output_type": "execute_result"
    }
   ],
   "source": [
    "lst"
   ]
  },
  {
   "cell_type": "code",
   "execution_count": 15,
   "id": "9033552e",
   "metadata": {},
   "outputs": [],
   "source": [
    "lstyear=['2011','2012','2013','2014']"
   ]
  },
  {
   "cell_type": "code",
   "execution_count": 16,
   "id": "229026e7",
   "metadata": {
    "scrolled": true
   },
   "outputs": [
    {
     "name": "stderr",
     "output_type": "stream",
     "text": [
      "C:\\Users\\User\\AppData\\Local\\Programs\\Python\\Python310\\lib\\site-packages\\seaborn\\_decorators.py:36: FutureWarning: Pass the following variables as keyword args: x, y. From version 0.12, the only valid positional argument will be `data`, and passing other arguments without an explicit keyword will result in an error or misinterpretation.\n",
      "  warnings.warn(\n"
     ]
    },
    {
     "data": {
      "text/plain": [
       "<AxesSubplot:>"
      ]
     },
     "execution_count": 16,
     "metadata": {},
     "output_type": "execute_result"
    },
    {
     "data": {
      "image/png": "[encoded data removed]",
      "text/plain": [
       "<Figure size 432x288 with 1 Axes>"
      ]
     },
     "metadata": {
      "needs_background": "light"
     },
     "output_type": "display_data"
    }
   ],
   "source": [
    "import seaborn as s\n",
    "s.xlabel='year'\n",
    "s.ylabel='totalpay'\n",
    "s.barplot(lst,lstyear)"
   ]
  },
  {
   "cell_type": "code",
   "execution_count": 17,
   "id": "c94e9c4c",
   "metadata": {},
   "outputs": [
    {
     "data": {
      "text/plain": [
       "Index(['Id', 'EmployeeName', 'JobTitle', 'BasePay', 'OvertimePay', 'OtherPay',\n",
       "       'Benefits', 'TotalPay', 'TotalPayBenefits', 'Year', 'Notes', 'Agency',\n",
       "       'Status'],\n",
       "      dtype='object')"
      ]
     },
     "execution_count": 17,
     "metadata": {},
     "output_type": "execute_result"
    }
   ],
   "source": [
    "g2011.columns"
   ]
  },
  {
   "cell_type": "code",
   "execution_count": null,
   "id": "6a70eac0",
   "metadata": {},
   "outputs": [],
   "source": []
  },
  {
   "cell_type": "code",
   "execution_count": null,
   "id": "fde08c9c",
   "metadata": {},
   "outputs": [],
   "source": []
  },
  {
   "cell_type": "code",
   "execution_count": 18,
   "id": "bbf94058",
   "metadata": {},
   "outputs": [
    {
     "data": {
      "text/html": [
       "<div>\n",
       "<style scoped>\n",
       "    .dataframe tbody tr th:only-of-type {\n",
       "        vertical-align: middle;\n",
       "    }\n",
       "\n",
       "    .dataframe tbody tr th {\n",
       "        vertical-align: top;\n",
       "    }\n",
       "\n",
       "    .dataframe thead th {\n",
       "        text-align: right;\n",
       "    }\n",
       "</style>\n",
       "<table border=\"1\" class=\"dataframe\">\n",
       "  <thead>\n",
       "    <tr style=\"text-align: right;\">\n",
       "      <th></th>\n",
       "      <th>Id</th>\n",
       "      <th>EmployeeName</th>\n",
       "      <th>JobTitle</th>\n",
       "      <th>BasePay</th>\n",
       "      <th>OvertimePay</th>\n",
       "      <th>OtherPay</th>\n",
       "      <th>Benefits</th>\n",
       "      <th>TotalPay</th>\n",
       "      <th>TotalPayBenefits</th>\n",
       "      <th>Year</th>\n",
       "      <th>Notes</th>\n",
       "      <th>Agency</th>\n",
       "      <th>Status</th>\n",
       "    </tr>\n",
       "  </thead>\n",
       "  <tbody>\n",
       "    <tr>\n",
       "      <th>0</th>\n",
       "      <td>1</td>\n",
       "      <td>NATHANIEL FORD</td>\n",
       "      <td>GENERAL MANAGER-METROPOLITAN TRANSIT AUTHORITY</td>\n",
       "      <td>167411.18</td>\n",
       "      <td>0.0</td>\n",
       "      <td>400184.25</td>\n",
       "      <td>0</td>\n",
       "      <td>567595.43</td>\n",
       "      <td>567595.43</td>\n",
       "      <td>2011</td>\n",
       "      <td>0.0</td>\n",
       "      <td>San Francisco</td>\n",
       "      <td>0</td>\n",
       "    </tr>\n",
       "    <tr>\n",
       "      <th>1</th>\n",
       "      <td>2</td>\n",
       "      <td>GARY JIMENEZ</td>\n",
       "      <td>CAPTAIN III (POLICE DEPARTMENT)</td>\n",
       "      <td>155966.02</td>\n",
       "      <td>245131.88</td>\n",
       "      <td>137811.38</td>\n",
       "      <td>0</td>\n",
       "      <td>538909.28</td>\n",
       "      <td>538909.28</td>\n",
       "      <td>2011</td>\n",
       "      <td>0.0</td>\n",
       "      <td>San Francisco</td>\n",
       "      <td>0</td>\n",
       "    </tr>\n",
       "    <tr>\n",
       "      <th>2</th>\n",
       "      <td>3</td>\n",
       "      <td>ALBERT PARDINI</td>\n",
       "      <td>CAPTAIN III (POLICE DEPARTMENT)</td>\n",
       "      <td>212739.13</td>\n",
       "      <td>106088.18</td>\n",
       "      <td>16452.6</td>\n",
       "      <td>0</td>\n",
       "      <td>335279.91</td>\n",
       "      <td>335279.91</td>\n",
       "      <td>2011</td>\n",
       "      <td>0.0</td>\n",
       "      <td>San Francisco</td>\n",
       "      <td>0</td>\n",
       "    </tr>\n",
       "    <tr>\n",
       "      <th>3</th>\n",
       "      <td>4</td>\n",
       "      <td>CHRISTOPHER CHONG</td>\n",
       "      <td>WIRE ROPE CABLE MAINTENANCE MECHANIC</td>\n",
       "      <td>77916.0</td>\n",
       "      <td>56120.71</td>\n",
       "      <td>198306.9</td>\n",
       "      <td>0</td>\n",
       "      <td>332343.61</td>\n",
       "      <td>332343.61</td>\n",
       "      <td>2011</td>\n",
       "      <td>0.0</td>\n",
       "      <td>San Francisco</td>\n",
       "      <td>0</td>\n",
       "    </tr>\n",
       "    <tr>\n",
       "      <th>4</th>\n",
       "      <td>5</td>\n",
       "      <td>PATRICK GARDNER</td>\n",
       "      <td>DEPUTY CHIEF OF DEPARTMENT,(FIRE DEPARTMENT)</td>\n",
       "      <td>134401.6</td>\n",
       "      <td>9737.0</td>\n",
       "      <td>182234.59</td>\n",
       "      <td>0</td>\n",
       "      <td>326373.19</td>\n",
       "      <td>326373.19</td>\n",
       "      <td>2011</td>\n",
       "      <td>0.0</td>\n",
       "      <td>San Francisco</td>\n",
       "      <td>0</td>\n",
       "    </tr>\n",
       "  </tbody>\n",
       "</table>\n",
       "</div>"
      ],
      "text/plain": [
       "   Id       EmployeeName                                        JobTitle  \\\n",
       "0   1     NATHANIEL FORD  GENERAL MANAGER-METROPOLITAN TRANSIT AUTHORITY   \n",
       "1   2       GARY JIMENEZ                 CAPTAIN III (POLICE DEPARTMENT)   \n",
       "2   3     ALBERT PARDINI                 CAPTAIN III (POLICE DEPARTMENT)   \n",
       "3   4  CHRISTOPHER CHONG            WIRE ROPE CABLE MAINTENANCE MECHANIC   \n",
       "4   5    PATRICK GARDNER    DEPUTY CHIEF OF DEPARTMENT,(FIRE DEPARTMENT)   \n",
       "\n",
       "     BasePay OvertimePay   OtherPay Benefits   TotalPay  TotalPayBenefits  \\\n",
       "0  167411.18         0.0  400184.25        0  567595.43         567595.43   \n",
       "1  155966.02   245131.88  137811.38        0  538909.28         538909.28   \n",
       "2  212739.13   106088.18    16452.6        0  335279.91         335279.91   \n",
       "3    77916.0    56120.71   198306.9        0  332343.61         332343.61   \n",
       "4   134401.6      9737.0  182234.59        0  326373.19         326373.19   \n",
       "\n",
       "   Year  Notes         Agency Status  \n",
       "0  2011    0.0  San Francisco      0  \n",
       "1  2011    0.0  San Francisco      0  \n",
       "2  2011    0.0  San Francisco      0  \n",
       "3  2011    0.0  San Francisco      0  \n",
       "4  2011    0.0  San Francisco      0  "
      ]
     },
     "execution_count": 18,
     "metadata": {},
     "output_type": "execute_result"
    }
   ],
   "source": [
    "g2011.head()"
   ]
  },
  {
   "cell_type": "code",
   "execution_count": 19,
   "id": "a2ecf708",
   "metadata": {},
   "outputs": [
    {
     "data": {
      "text/plain": [
       "array([0], dtype=object)"
      ]
     },
     "execution_count": 19,
     "metadata": {},
     "output_type": "execute_result"
    }
   ],
   "source": [
    "g2011['Benefits'].unique()"
   ]
  },
  {
   "cell_type": "code",
   "execution_count": 20,
   "id": "3e645fb2",
   "metadata": {},
   "outputs": [
    {
     "data": {
      "text/plain": [
       "0.0"
      ]
     },
     "execution_count": 20,
     "metadata": {},
     "output_type": "execute_result"
    }
   ],
   "source": [
    "g2011['Benefits'].mean()"
   ]
  },
  {
   "cell_type": "code",
   "execution_count": 21,
   "id": "6befa399",
   "metadata": {
    "scrolled": true
   },
   "outputs": [
    {
     "data": {
      "text/plain": [
       "26439.96696730682"
      ]
     },
     "execution_count": 21,
     "metadata": {},
     "output_type": "execute_result"
    }
   ],
   "source": [
    "g2012['Benefits'].mean()"
   ]
  },
  {
   "cell_type": "code",
   "execution_count": 22,
   "id": "45abcbfc",
   "metadata": {},
   "outputs": [
    {
     "data": {
      "text/plain": [
       "23829.07657208926"
      ]
     },
     "execution_count": 22,
     "metadata": {},
     "output_type": "execute_result"
    }
   ],
   "source": [
    "g2013['Benefits'].mean()"
   ]
  },
  {
   "cell_type": "code",
   "execution_count": 23,
   "id": "2b24e52e",
   "metadata": {},
   "outputs": [
    {
     "data": {
      "text/plain": [
       "Index(['Id', 'EmployeeName', 'JobTitle', 'BasePay', 'OvertimePay', 'OtherPay',\n",
       "       'Benefits', 'TotalPay', 'TotalPayBenefits', 'Year', 'Notes', 'Agency',\n",
       "       'Status'],\n",
       "      dtype='object')"
      ]
     },
     "execution_count": 23,
     "metadata": {},
     "output_type": "execute_result"
    }
   ],
   "source": [
    "g2014.columns"
   ]
  },
  {
   "cell_type": "code",
   "execution_count": 24,
   "id": "5f9e7dbd",
   "metadata": {},
   "outputs": [
    {
     "name": "stderr",
     "output_type": "stream",
     "text": [
      "C:\\Users\\User\\AppData\\Local\\Temp/ipykernel_11004/1517443905.py:1: SettingWithCopyWarning: \n",
      "A value is trying to be set on a copy of a slice from a DataFrame.\n",
      "Try using .loc[row_indexer,col_indexer] = value instead\n",
      "\n",
      "See the caveats in the documentation: https://pandas.pydata.org/pandas-docs/stable/user_guide/indexing.html#returning-a-view-versus-a-copy\n",
      "  g2014['Benefits']=g2014['Benefits'].astype(float)\n"
     ]
    }
   ],
   "source": [
    "g2014['Benefits']=g2014['Benefits'].astype(float)"
   ]
  },
  {
   "cell_type": "code",
   "execution_count": 25,
   "id": "ff15bced",
   "metadata": {},
   "outputs": [
    {
     "data": {
      "text/plain": [
       "24787.00074338326"
      ]
     },
     "execution_count": 25,
     "metadata": {},
     "output_type": "execute_result"
    }
   ],
   "source": [
    "g2014['Benefits'].mean()"
   ]
  },
  {
   "cell_type": "code",
   "execution_count": null,
   "id": "679342d0",
   "metadata": {},
   "outputs": [],
   "source": []
  },
  {
   "cell_type": "markdown",
   "id": "d37f797c",
   "metadata": {},
   "source": [
    "# How are base pay, overtime pay, and benefits allocated between different groups?"
   ]
  },
  {
   "cell_type": "code",
   "execution_count": 26,
   "id": "146f680c",
   "metadata": {},
   "outputs": [
    {
     "data": {
      "text/plain": [
       "Index(['Id', 'EmployeeName', 'JobTitle', 'BasePay', 'OvertimePay', 'OtherPay',\n",
       "       'Benefits', 'TotalPay', 'TotalPayBenefits', 'Year', 'Notes', 'Agency',\n",
       "       'Status'],\n",
       "      dtype='object')"
      ]
     },
     "execution_count": 26,
     "metadata": {},
     "output_type": "execute_result"
    }
   ],
   "source": [
    "df.columns"
   ]
  },
  {
   "cell_type": "code",
   "execution_count": 27,
   "id": "d5921ccb",
   "metadata": {},
   "outputs": [
    {
     "data": {
      "text/plain": [
       "2159"
      ]
     },
     "execution_count": 27,
     "metadata": {},
     "output_type": "execute_result"
    }
   ],
   "source": [
    "df['JobTitle'].nunique()"
   ]
  },
  {
   "cell_type": "code",
   "execution_count": 28,
   "id": "10cd7d8a",
   "metadata": {
    "scrolled": true
   },
   "outputs": [
    {
     "data": {
      "text/plain": [
       "Transit Operator                7036\n",
       "Special Nurse                   4389\n",
       "Registered Nurse                3736\n",
       "Public Svc Aide-Public Works    2518\n",
       "Police Officer 3                2421\n",
       "Name: JobTitle, dtype: int64"
      ]
     },
     "execution_count": 28,
     "metadata": {},
     "output_type": "execute_result"
    }
   ],
   "source": [
    "df['JobTitle'].value_counts().head()"
   ]
  },
  {
   "cell_type": "code",
   "execution_count": 29,
   "id": "810a6890",
   "metadata": {},
   "outputs": [],
   "source": [
    "lst_job=df['JobTitle'].unique().tolist()"
   ]
  },
  {
   "cell_type": "code",
   "execution_count": 30,
   "id": "ca15bb0e",
   "metadata": {},
   "outputs": [
    {
     "data": {
      "text/plain": [
       "(148654, 13)"
      ]
     },
     "execution_count": 30,
     "metadata": {},
     "output_type": "execute_result"
    }
   ],
   "source": [
    "df.shape"
   ]
  },
  {
   "cell_type": "code",
   "execution_count": 31,
   "id": "b81d907e",
   "metadata": {},
   "outputs": [],
   "source": [
    "import matplotlib.pyplot as plt\n",
    "import seaborn as s"
   ]
  },
  {
   "cell_type": "code",
   "execution_count": 32,
   "id": "74e3a6e2",
   "metadata": {},
   "outputs": [
    {
     "name": "stdout",
     "output_type": "stream",
     "text": [
      "[399211.275, 211783.89324324325, 145073.4925, 279359.56, 228724.50599999996, 216655.53688888892, 307899.46, 302377.73, 203427.84999999998, 277438.84, 233834.03714285712, 205136.50714285715, 174010.95666666667, 212793.17199999996, 179758.8423943662, 267992.59, 250026.48799999998, 154126.28345679014, 106501.7489473684, 257124.44, 166980.2756122449, 139292.04594458436, 216598.635, 134205.71, 164151.22199999998, 180944.90333333332, 112265.26039999998, 123989.09499999999, 126152.28500000002, 233357.28, 191815.5575, 118240.54588235295, 129428.51109634552, 169076.49399999998, 114900.45517587938, 161040.7125, 166872.92923076928, 200921.48799999998, 100084.37295454544, 127834.39591784339, 134639.24459459458, 186216.36062499997, 163997.27909090908, 206610.3325, 215318.2, 214988.68000000002, 151322.97111864408, 94820.12845255475, 165335.91499999998, 108657.04789215687, 208243.12, 159959.45249999998, 161271.022, 206704.63, 143413.94000000003, 114163.21430406852, 123282.74368421052, 147684.54117647058, 101060.81999999999, 161841.96173913043, 199628.97, 198027.44, 197233.84, 196377.99, 175512.9075, 187065.026, 147616.97296296296, 90711.88879999999, 133334.85571428572, 180252.77375, 191319.45, 118846.5072727273, 188999.2, 113854.36785714283, 103278.799, 94750.67, 145775.22212121217, 152596.47, 88084.35086956523, 152671.21555555554, 171207.812, 186341.79, 174307.87391304347, 132175.09882352944, 88399.54950000002, 56395.766397058826, 126170.64000000001, 128056.73381962864, 146854.3352631579, 82166.90114942529, 89429.92536231884, 135785.94666666668, 169672.75044444442, 137530.409375, 99256.9808783784, 159966.75714285715, 107817.46200000001, 122988.36333333333, 128951.38696969698, 176028.39, 113374.46132075471, 94837.545, 124398.50461538462, 115570.36285714286, 131120.17393939395, 162252.44999999998, 128317.82518518518, 34403.62611111111, 114972.16750000001, 120633.92023809522, 170844.78, 167958.41333333333, 109731.56173913041, 150305.20555555553, 116465.32375000001, 108425.39333333336, 150641.082, 136043.635, 166821.15, 166226.24, 134510.15444444443, 156467.72, 150888.86099999998, 164425.0, 145445.16700000002, 116501.99314814816, 159498.985, 118110.7855319149, 106621.14068908941, 31325.07594151213, 142467.65500000003, 139001.08666666667, 154313.37714285712, 109920.9175, 160257.08, 135430.65666666665, 95564.8684375, 157355.95, 109949.61499999999, 80459.05615384615, 129142.99666666666, 99881.44666666667, 73722.05955752212, 100243.64, 90949.7676984127, 107053.65066666668, 146196.05800000002, 80047.15333333334, 108600.955, 82661.93545454546, 150524.35249999998, 104891.63399999999, 154690.6, 150352.685, 153795.73, 152985.39, 69344.998, 104847.69, 116435.9528571429, 87465.53499999999, 127718.801, 91553.50349315067, 86632.07999999999, 127961.43000000001, 98919.13846153846, 130436.72666666667, 99504.71, 61742.636352596324, 128942.9344827586, 135897.1575, 49523.10578947368, 140178.755, 144282.73666666666, 145519.27, 124315.07999999999, 126972.07, 126820.66833333333, 92226.77928571428, 133601.81333333332, 118318.07250000001, 137772.80000000002, 106499.81714285715, 109614.175, 117162.10333333333, 116513.676, 140530.46, 84801.45571428572, 101316.5365254237, 99332.576, 129862.072, 118485.798, 115868.26304347828, 71320.76268292683, 130454.31000000001, 89745.46746268657, 137926.07, 110583.34272727273, 109760.655, 136292.0, 113743.22249999999, 98665.33216216216, 135806.52, 135166.98, 108868.49, 105136.77583333332, 75255.00583333334, 89041.61466666668, 110820.47823529413, 110746.344, 134178.0, 123355.69, 92418.71260869561, 97134.0268627451, 126707.1, 94206.5128846154, 133300.08, 98759.8170689655, 91807.54833333334, 132582.43, 132471.24, 126801.865, 132242.5, 132242.5, 80945.18428571428, 131788.26, 80512.51826086955, 131457.05, 117254.0, 126392.285, 118750.73666666665, 93708.56875, 88837.49454545457, 105014.808, 99486.38333333335, 128518.29500000001, 129613.02, 84312.16520547944, 78679.07222222222, 126614.91666666667, 101428.43000000001, 118093.15050000002, 84395.21538461538, 128425.64333333336, 97570.51, 100294.80944444444, 127865.815, 100532.46909090909, 70857.42749999999, 128534.17, 128128.39, 127938.44, 112489.44, 86182.77, 74982.905, 117380.06111111112, 96045.62125000001, 99764.52288461536, 126936.95, 126571.71, 82770.65999999999, 112330.19, 125004.36, 81694.20384615386, 119590.31, 75273.75420000001, 122193.455, 95847.42508064516, 124392.29, 124332.41, 118042.88555555555, 108125.84666666668, 105635.40499999998, 72448.17666666668, 84998.05339622642, 107587.20545454546, 123080.71, 106942.85764705883, 86882.58552631579, 65108.267499999994, 122486.89, 73443.96151515152, 99124.414, 107028.36272727273, 120994.6, 63949.305, 109135.371, 101526.56999999999, 95485.67624999999, 94904.69394736843, 97612.44454545453, 94944.90666666668, 45051.441428571416, 119337.33, 103822.65875, 119203.65, 96905.95142857142, 118989.65, 86572.64413793103, 117964.41, 111585.535, 98380.85, 98042.66983870967, 108707.82823529412, 117088.76, 86878.8676923077, 80969.15729166666, 111127.19, 117996.26, 109846.805, 103892.25590909092, 86373.47785714285, 116078.66, 97887.2789189189, 105822.483125, 109496.035, 90190.01625, 105796.52428571427, 99106.9466666667, 103643.985, 75870.8229326923, 106188.39499999999, 71612.25509090908, 60977.945, 90868.20421052631, 113048.702, 82555.76879999999, 74406.45, 108514.00666666667, 115289.99, 114334.84666666668, 90237.63833333335, 100844.62812499999, 74050.4525, 107142.5625, 69390.415, 114141.76, 80678.62500000001, 74136.68015706807, 50086.89288888889, 111916.758, 94913.98, 107561.69133333334, 113389.28, 106710.19166666665, 64632.93666666667, 110744.33799999999, 78793.088, 86412.115, 112798.37, 96283.01333333332, 111821.33, 108264.82153846153, 83065.425, 111392.55, 101478.81615384616, 94550.2225, 101068.04, 110982.125, 100687.59, 86905.27461538461, 93120.1494117647, 90345.64222222223, 92826.66, 80391.126, 95780.43444444443, 94262.28166666666, 92194.6325, 74620.34, 68697.61846153844, 88901.08111111111, 106685.02666666667, 100939.8125, 91661.23478260869, 69021.24500000001, 63187.96000000001, 108888.03, 65671.68478021979, 108645.16, 108504.74, 67249.43939393939, 100161.54666666668, 92647.2, 98970.3275, 91833.30499999998, 107692.0, 98244.42666666665, 107583.02, 65892.20382978724, 77377.475, 28968.27771689498, 106963.49, 81214.80962962964, 66838.973, 86761.48666666666, 91993.19166666667, 102790.40999999999, 93530.88166666665, 60827.96956521738, 105972.13, 105862.35, 92610.03916666667, 89713.5165, 81553.62, 87724.512, 78017.14506329114, 59748.980773195886, 104903.67, 104604.06500000002, 95843.12666666666, 97523.49, 81289.63699999999, 92342.40538461538, 83217.88166666667, 83983.47111111111, 81920.698, 101144.75, 97065.26470588233, 72235.11600000001, 57310.438055555554, 100557.7625, 77680.6588888889, 101516.588, 84594.698, 103262.69833333332, 103256.15, 60580.46272727272, 102848.95999999999, 102656.12, 60406.51178571428, 102145.63, 52420.83942307692, 67578.23857142856, 87131.37999999999, 74122.29742857143, 101588.34, 40973.17833333334, 84929.83499999999, 49444.09278514589, 68457.16977941176, 76579.9967105263, 38690.29111111111, 101033.76, 65355.82791666667, 76375.90666666666, 54969.90426470589, 81969.70868131868, 72766.98384615385, 61758.5926984127, 100556.11, 47265.83795454546, 100515.4, 74609.14, 100403.89, 46713.24858108108, 93979.675, 17933.565454545456, 96562.54, 70086.84833333333, 88208.02826086957, 99775.01, 99744.26, 86885.69750000001, 88376.56, 94732.1, 85230.89888888889, 81081.93625, 98934.25, 91372.018, 88727.85470588236, 83196.61, 61438.39, 98305.36, 90163.86124999999, 72165.7864516129, 80140.31571428574, 61648.35333333333, 74599.26425000001, 66787.81316455698, 78895.94, 85541.3375, 96913.66, 59546.701875, 80742.06350877193, 48321.779141323794, 71476.52285714286, 95982.20999999999, 38213.06454545455, 90093.786, 94890.39749999999, 91741.73000000001, 69073.42833333333, 60593.305, 91020.726, 95283.35, 77456.79151515152, 95203.01, 49902.81999999999, 69006.41614173228, 89994.13399999999, 70496.79879999999, 60619.60769230769, 79774.8874468085, 54788.044095563135, 77681.84307692306, 47459.625, 74504.338, 52014.976, 64227.625882352935, 84767.65125, 88216.83499999999, 81015.79000000001, 94000.0, 92096.59666666668, 93878.75, 93815.8, 63687.788888888885, 70379.67576923076, 67976.31076923077, 82576.72923076923, 60074.68, 69553.34454545454, 93148.99666666666, 92877.545, 92872.0, 92698.515, 92674.4, 67046.69714285714, 76862.87705882352, 92364.44, 71108.44076923077, 92314.64, 89427.15000000001, 88136.79500000001, 79626.43080000002, 73480.414, 79170.671875, 78100.07238095238, 77015.58, 89552.03666666667, 88192.40666666668, 69901.4694736842, 81344.54222222221, 76229.29785714285, 82158.7904347826, 77751.73464285713, 80811.52399999999, 77987.66700000002, 91548.02666666667, 57745.72615384614, 59973.10174603174, 49454.0537037037, 91260.1, 59027.80666666667, 91117.7, 66476.75333333333, 89011.64499999999, 67000.44480620156, 83439.3, 90245.09, 66350.84, 77556.47333333333, 57382.124166666676, 87534.18333333333, 40654.38816964285, 69076.20494949495, 89376.05, 60129.931283422455, 89197.2, 77739.84, 79725.09375, 83353.29454545454, 88996.4, 87533.20999999999, 71792.0140909091, 78193.51, 88547.24, 76608.04951923077, 88180.0, 57972.144095238094, 88468.1, 88242.32, 70459.23666666666, 83695.68263157894, 72496.915, 66680.79846153846, 75865.935, 79807.87, 39416.04, 63557.75588235295, 87336.56, 66954.66500000001, 44779.61947368421, 87129.44, 86787.06, 86787.02, 70605.51857142858, 86707.26, 64179.92125, 69737.92561403508, 29352.451302325582, 61835.27166666667, 49774.115000000005, 64320.310000000005, 56206.88909090909, 53424.735, 62341.744999999995, 85940.02, 85913.46, 72756.5890909091, 71808.981, 60877.012608695644, 70197.05051724138, 85339.29, 62157.3734375, 52705.88038461538, 85057.15, 78176.07200000001, 76588.2775, 63620.71599999999, 84800.16, 84789.53, 75508.522, 40377.668135135136, 67183.11871794872, 81631.3, 49042.57, 84303.02, 84302.65, 82354.49375, 84081.48000000001, 78096.85117647058, 69982.138125, 84196.82, 57326.15142857143, 59680.17300000002, 57218.585, 83904.73, 77309.985, 47279.948627450976, 83522.21, 83503.09, 73556.00875000001, 69034.37352941177, 64384.474285714285, 49050.19599999999, 83135.24, 56951.26561403509, 83002.23, 68517.79800000001, 82567.29, 82303.6, 78487.96818181819, 74959.16200000001, 76129.66777777778, 74222.9475, 54354.29238095236, 57074.37631578947, 66163.51166666667, 81650.52, 81641.17, 81589.92, 60798.33921052632, 61419.30787234043, 81456.45, 39210.2792, 66779.15416666667, 57318.19666666668, 71131.79642857144, 80485.0, 67479.89624999999, 8115.707439024389, 80307.2, 59502.00419753086, 56959.176, 59095.80192307693, 60493.061, 35530.53854166667, 68192.31272727273, 58017.60125000001, 60295.795000000006, 79904.0, 79901.03, 63954.867526881724, 79739.795, 72744.53411764707, 68213.98333333332, 79669.88, 66006.685, 55968.794444444444, 40316.71714285714, 74272.45333333334, 68896.725, 79209.43, 63116.948307692306, 70496.99666666666, 68027.3, 78912.03, 49419.81725, 57719.41875, 64017.311666666676, 66032.5011111111, 57735.63068965518, 66058.60888888889, 63075.09941558442, 70725.73117647058, 78482.26, 74172.0925, 44540.92218181818, 54744.82000000001, 59864.8138095238, 37454.364285714284, 68770.15, 66832.6996923077, 77698.6, 41606.755, 72358.73714285714, 68091.44888888889, 77140.88, 42446.80852941176, 76958.12, 48083.4867032967, 49653.829375, 76467.0, 59028.03600000001, 55885.31500000001, 61444.780000000006, 57704.770784313725, 58273.15823529411, 73943.9580952381, 58310.598666666665, 71926.87714285715, 65732.53285714287, 55868.81461538461, 52096.55176470588, 68324.3765, 67119.87666666666, 61497.035, 61297.32538461538, 69115.53333333333, 63287.89166666666, 74584.19499999999, 70320.568, 51645.69666666666, 57837.85333333333, 57202.66684210526, 73265.46857142857, 74796.35, 63108.5559090909, 65529.860250000005, 59999.8375, 74573.05, 61000.959130434785, 71752.03333333333, 69124.36, 56896.25411764706, 60416.955, 51165.20933333333, 40186.985172413806, 46648.338, 46820.022575757575, 68120.04999999999, 73636.39, 73618.87, 51257.10666666667, 66245.495, 58925.27999999999, 73151.05, 48212.25, 49814.78949999999, 55579.43214285714, 72844.4, 53668.60152777778, 61599.8403030303, 70372.92, 61350.311718749996, 50793.562173913044, 63851.874615384615, 55737.16714285715, 72088.99, 52573.207500000004, 68709.708, 63209.948, 44543.90727272727, 71551.24, 58142.166842105275, 60966.97666666667, 70211.69, 56331.375, 66018.95999999999, 71141.28, 56108.24833333333, 61262.04045454545, 54130.636, 54584.1209090909, 55360.785238095246, 62566.88380952381, 56275.70916666666, 65046.73757575759, 58528.88166666667, 46647.04076923077, 43250.69485714286, 70367.08, 50855.364333333346, 35592.69, 56245.84888888889, 53461.27818181819, 68985.16, 21947.505714285715, 40646.215, 68820.26, 56376.39400000001, 64988.52625, 56750.65516666665, 56437.33, 64198.805, 63523.61406779662, 64482.17272727273, 68670.4, 42511.18, 67507.265, 68333.25, 50279.77019607842, 68160.8, 58245.62318181817, 54021.13999999999, 67594.4, 58754.38538461539, 59881.333333333336, 65076.265, 62225.613, 58791.156, 65933.44, 35431.811974522294, 51637.15333333333, 66686.56, 65161.52625, 64760.73333333334, 53363.19117647059, 63568.29666666667, 56924.383846153854, 61382.22142857143, 52012.48777777778, 37927.8, 55953.9975, 62113.285, 59485.428888888884, 40521.552776381905, 65698.95, 65504.38, 47429.268, 65274.37, 65259.48, 44865.55196850393, 65005.25, 53558.39790697675, 48851.973, 37441.95333333333, 20743.204999999998, 48031.134000000005, 44347.26423076923, 45959.52138709677, 61102.15785714286, 56860.73, 64471.01, 60426.975000000006, 59938.5825, 48181.275384615394, 49530.279565217395, 63745.19, 56375.842500000006, 53708.105333333326, 63313.14, 46657.73222222223, 40318.8675, 49407.674999999996, 58012.99666666667, 41429.07624999999, 49497.225, 39229.7385, 62092.895000000004, 58886.517499999994, 52775.519729729735, 31378.144999999997, 61954.21, 61683.49, 43427.371629629626, 61470.65, 43987.33000000001, 34005.87536585366, 44035.66433734941, 43178.19545454546, 50705.87513513514, 60761.66, 60731.61, 39221.381875, 60428.78, 60422.59, 21828.586666666666, 36771.9103125, 57654.862, 57495.175, 50006.34888888888, 59923.9575, 40050.37733333334, 36709.583333333336, 46567.30428571429, 54609.537142857145, 59483.8, 24115.303333333333, 33177.29742857144, 59242.59, 59114.62, 58869.22, 55058.248, 29031.74291666667, 42749.53857142858, 38276.088, 45634.96967213114, 53586.1, 50816.48941176471, 22277.4275, 47972.382, 43780.72357142858, 31301.726666666666, 57535.09, 38597.375, 57028.56, 51094.71285714286, 50942.48375, 47877.29, 40285.99222222223, 29442.69, 56855.98, 40829.998019801984, 56298.62, 42553.59333333333, 36802.25125, 36166.153333333335, 47886.4, 29312.12015625, 31016.087894736844, 40782.15666666667, 47034.443043478255, 42467.061428571425, 54520.538571428566, 40207.615, 48717.065833333334, 54445.59666666667, 54048.13, 25582.600000000002, 36346.94666666666, 41285.6575, 53712.34, 31213.511111111115, 53632.87, 49225.7, 45564.61352941177, 48485.5625, 21913.50863636364, 32697.622352941173, 50062.683999999994, 51674.51, 51640.56, 46260.81875, 51450.12, 51311.86, 49902.869999999995, 35159.535, 19518.013333333332, 50766.4, 50728.44, 32197.877222222218, 25896.00230769231, 13343.585798319327, 39705.64, 34115.448, 48840.11, 38473.69620689655, 48119.58, 14256.117637362639, 47507.15, 25552.489999999998, 28066.285490196085, 44526.45, 47081.66, 46854.36, 46804.65, 14021.555000000002, 42244.6075, 45303.82, 12093.992035398229, 16998.322727272727, 44204.634999999995, 4054.6875471698118, 33599.51833333333, 6142.315009416196, 12140.526, 34778.45, 25090.39235294118, 40531.66, 13476.87, 39310.31, 14596.94328125, 9759.604892086332, 22197.160000000003, 23827.04, 35398.8, 34767.3, 34401.6, 24656.538181818174, 24647.135, 32723.1, 8943.554238410596, 21728.594999999998, 17516.11, 5964.886054913295, 14415.891886792451, 21788.7, 20717.65, 10787.759999999998, 2308.2942622950823, 7488.975666666666, 17188.52, 16769.68, 15420.0, 10595.14, 13223.8, 4185.114, 12410.38, 7305.3092207792215, 12196.8, 2271.694347826087, 9571.42857142857, 8417.76, 1201.2599999999998, 3997.515762711864, 3583.4, 3369.71, 2474.41, 1195.904464285714, 1927.5, 638.7878787878788, 296.51162790697674, 673.8, 149.51, 181387.41734265734, 329183.64666666667, 116834.61976744187, 325971.68333333335, 133186.60209150327, 264744.6927777778, 297769.41333333333, 215512.68732673262, 281763.4838888889, 224413.62444444446, 267140.25363636366, 112467.43406249999, 231157.26416666666, 261406.13571428575, 246635.77857142856, 202671.30398104267, 268256.51285714284, 270047.4466666667, 264750.75333333336, 275852.52999999997, 145881.78751589658, 157379.71969696973, 135560.83056410257, 219707.2090909091, 278592.545, 157040.1605882353, 249204.21666666667, 179823.41382838285, 180637.40333333332, 242742.04666666663, 187229.16014084505, 190084.66960000002, 245958.16666666666, 108839.3997810219, 172079.01666666666, 195141.78440000003, 211474.04294117648, 215085.31, 232445.56388888886, 227463.96, 159808.8831446541, 169391.70576335877, 215587.19999999998, 197005.34964285712, 134906.8909087154, 192128.85480769226, 146303.4942857143, 182129.16652173916, 164651.75534861512, 224049.315, 203727.38928571428, 109073.30539967374, 220335.18999999997, 203033.72, 96603.63143916914, 166163.39716216217, 165916.11270270273, 105974.60466666667, 191613.41, 204997.15333333332, 177390.90823529413, 199360.68555555557, 102879.41510309279, 201759.445, 222319.40666666665, 202871.82666666666, 136563.4715074496, 165094.12109589044, 115700.59486616701, 183495.31746478876, 183771.33599999998, 140962.19, 154500.43421052632, 132202.65900398407, 89300.21596774191, 163382.0549618321, 131279.36333333334, 152671.8046969697, 144152.2012121212, 163073.48451612904, 117196.7618556701, 154686.715, 156441.44710526316, 130650.3177777778, 130191.38500000001, 168502.90954545455, 183859.96885496186, 158924.70789473684, 162058.6893333333, 154267.89627906977, 107834.07463510848, 146378.71000000002, 143068.3410526316, 137961.43003552398, 161197.76111111112, 65813.86352040817, 125671.72619047618, 126484.43269639066, 127573.40208333335, 102695.34446909667, 146731.62291262133, 170847.04, 142990.34000000005, 127960.39050724638, 170708.444, 124591.15088235296, 169080.0523529412, 159183.11000000002, 88874.18917431192, 166759.1, 172781.23, 154057.07833333334, 171038.17333333334, 108825.85461038962, 172631.63, 113989.1120415225, 148867.71999999997, 119734.32733333335, 54798.685000000005, 173659.7, 143010.23454545456, 126799.36363636363, 121097.71407407407, 191561.62333333338, 128080.061875, 113927.65029411766, 127077.09618181817, 151493.77333333332, 131347.64692810457, 188838.68, 112211.52600000001, 126163.62672, 158483.882, 96281.65684281843, 114737.06084210527, 154755.42904761905, 131770.43647435898, 132976.031, 130275.90875, 113411.11720930232, 130669.53877551021, 100943.5725, 124163.03999999996, 116997.5385, 166247.3239130435, 147981.37695652174, 127829.57596153849, 162998.386, 127569.32578947367, 116088.25083333334, 99856.51, 109713.56804966375, 131579.54674418608, 126148.8931111111, 118729.99142517814, 180130.7214285714, 85053.75432176657, 109830.1256329114, 145264.89684210529, 127594.16846153844, 139215.45421052634, 105220.54057142856, 175467.50333333333, 150352.91, 142722.65166666664, 109374.4882, 61519.93369565218, 100279.14550561797, 64711.14691728255, 147584.74142857143, 144649.245, 149684.75833333333, 146633.68777777778, 111125.87163841809, 119736.85981481479, 36463.547222222216, 132571.788, 139795.14142857146, 113392.305, 149937.20333333334, 139486.13166666668, 113551.80828571429, 109527.64418546367, 128746.97925170064, 140360.76499999998, 107122.7075, 136156.47260869565, 96812.48384765626, 141457.64, 113804.06433333334, 135794.67500000002, 137733.32222222222, 110352.17407407406, 121929.35333333333, 127273.4856, 117145.57178571427, 126831.44, 103221.94, 80790.23560606061, 120865.25842105264, 126719.33000000002, 144681.3675, 133524.56083333332, 141319.425, 151060.87333333332, 103034.54495238094, 101959.53142857141, 122691.29615384618, 91062.39463414633, 124271.94, 116216.905, 104349.415, 139582.79555555558, 141688.96000000002, 112378.83749999998, 143482.94333333336, 115401.06235294118, 151187.58333333334, 135805.03, 110926.77639999999, 128578.78294117647, 130467.52916666666, 134063.55333333332, 33161.934723171566, 96773.098, 119657.91483394834, 116073.84111111112, 94886.19186046511, 109088.7242857143, 84582.2285, 86305.46442516269, 95520.58291666668, 120514.92428571428, 72454.3853030303, 137306.71, 115351.32903846152, 130670.89499999999, 90150.01945945945, 125691.12, 101379.65105263158, 91967.54979166666, 90420.8541509434, 107458.79528301886, 137431.392, 133217.70333333334, 112306.8508, 94679.22334661355, 56606.68944444445, 121788.61166666668, 88214.2675, 104943.2193220339, 118783.7946153846, 102974.475, 105317.23236363639, 111967.372, 135105.43000000002, 133116.55000000002, 120636.52125, 94977.38142857143, 104716.96191780822, 144269.19333333333, 92527.3765, 103800.5457142857, 87240.1776923077, 118126.0457142857, 94253.48191919192, 103176.03346153845, 115626.89227272729, 64724.952764227644, 102180.249, 108121.82104166667, 89775.16131578949, 93635.47860465116, 121132.36333333334, 111490.72066666668, 89740.86150375941, 114135.84750000002, 125730.16500000001, 96418.34300000002, 145459.321, 123333.04, 126203.89, 109191.27548387095, 124022.31, 135670.50166666668, 134571.35666666666, 119560.69583333335, 89939.00532934132, 106724.40401709401, 119286.021, 105281.85111111111, 107554.85454545454, 100762.83217391303, 100193.19333333333, 110819.254, 105396.32976190478, 118592.17666666668, 80774.56523809524, 90183.53466666667, 126002.53555555556, 148963.25333333333, 108111.52016666668, 91043.08207317072, 118509.40166666667, 100245.48229411765, 90375.72, 105684.27785714286, 115445.23, 81547.04666666666, 103432.78212121212, 87330.81538461537, 114556.24666666667, 117548.87, 106265.3452631579, 76753.9886574074, 102999.07470588235, 107205.419375, 72385.63674698793, 111464.93333333333, 101805.552, 110814.06, 114900.67, 93966.14025, 107154.06689320391, 84000.37846153848, 81873.89743089431, 96523.77563636364, 112167.2857894737, 113948.37933333333, 122320.46333333333, 100538.85307692309, 85592.748046875, 95514.218125, 101320.62, 88861.07388888889, 91639.53285714285, 79418.54612903224, 85742.73083333333, 113041.41312499999, 108324.74875, 107909.38857142857, 84541.57, 87550.90258064517, 119620.34333333334, 74471.13398550723, 93365.34, 97798.25428571428, 101077.15285714286, 102201.86956521738, 66828.19499999999, 103085.12294117648, 83952.62133333333, 112162.42809523811, 70560.51558823528, 88776.37393873086, 109476.20583333333, 119073.92333333334, 86339.17032467533, 121986.11000000002, 93217.79116959065, 114573.33888888889, 114782.83333333333, 125596.31333333334, 109549.87039999999, 86178.51417682927, 100706.1457142857, 100672.48199999999, 106650.90272727273, 99273.69136363635, 98804.6925, 61816.40666666667, 87910.1055319149, 102371.06448275861, 99752.69285714286, 106573.84142857142, 114825.36, 93155.87068965517, 81044.19333333334, 108203.38333333335, 96944.03, 69446.81572916666, 70923.0253960396, 110241.28727272729, 67793.97285714286, 95564.42756756756, 85830.94739130436, 80199.31999999999, 104457.53944444444, 78257.7538888889, 88073.13500000001, 119108.69, 101632.17705882352, 99785.205, 106062.72045454546, 96673.95515151514, 83555.87437500001, 96847.78066666666, 87685.20555555557, 104342.48935064935, 101265.59, 89241.51759999999, 105104.29777777779, 112042.68555555555, 106829.92533333336, 93830.66476190476, 98136.22416666667, 81161.04634615383, 104895.09025641029, 93656.41933333334, 110779.01666666666, 102662.71749999998, 109262.04, 93586.32883333332, 100079.83833333333, 97135.46142857142, 101999.05318181818, 108815.2925, 70965.14611005693, 99383.52375000001, 66579.78400000001, 67382.1817687075, 94388.81588235295, 79001.07154676259, 105269.95777777777, 83581.37734042555, 101269.96999999999, 72659.9278313253, 57158.337499999994, 58571.8287128713, 70389.29714285715, 66906.8599270073, 105131.07333333332, 90124.92666666668, 81545.53833333334, 79654.5275, 94940.12281249999, 93858.37, 84879.37294871795, 64488.2177181208, 100587.45, 82340.45206896552, 57279.76201612904, 92525.81809523811, 90100.85166666667, 92092.32025641024, 75992.19555555556, 85740.97363636365, 76135.15560810812, 102157.551, 103976.17333333334, 93937.6925, 83590.70916666667, 91142.62375, 81250.76857142856, 91087.40933333333, 74197.60666666666, 103212.31333333334, 82070.15176470588, 94897.92499999999, 95554.47, 103703.65499999998, 110117.11857142858, 67363.18875, 89198.87999999999, 80017.04743589743, 71339.30301886793, 105017.08666666667, 84441.90116279069, 100270.90333333334, 68870.72399253731, 69416.13910326087, 79164.79328912467, 95631.69916666667, 110302.06666666665, 74032.97561946904, 89684.25615384615, 99490.89342105263, 90413.37305555557, 96106.02869565217, 64533.02, 79270.61538461539, 92854.26000000001, 101915.11333333334, 85264.79293478261, 70601.71618556701, 80134.24909090908, 85909.95731707319, 77623.145, 99989.04333333333, 72801.59464285715, 78423.0, 51876.90999999999, 16328.929090909092, 87666.29972972974, 90464.02238095237, 84935.48499999997, 65561.60208, 75470.16619047619, 58686.97666666666, 88990.03133333333, 88893.30547619048, 64347.15619469026, 81425.12614583333, 69268.96354166667, 36131.890287958115, 77678.59, 76042.8401, 64839.45512195122, 92023.19045454545, 94615.84599999999, 71905.85712765958, 86352.37428571428, 71077.22555555557, 98180.83266666668, 55110.856863504356, 80384.44638709677, 90568.9952173913, 69680.57904761905, 81947.98555555556, 68364.04199999999, 92195.04181818182, 84952.09704918036, 93217.48714285714, 96611.81333333334, 47114.08809768637, 95255.58833333333, 74532.0976190476, 84019.76413793102, 86255.36736842104, 67152.4864102564, 93361.17, 80134.07569620253, 60715.60460317461, 98208.25333333334, 89504.8313114754, 66079.285, 85285.4, 87032.40710843375, 81729.48918367349, 97252.40000000001, 70827.325, 75057.98839285714, 86381.77357142858, 76383.59545454547, 59184.835, 69010.6670351759, 91181.87666666666, 79971.93612903226, 48403.028378378374, 66027.10024999999, 76065.795, 86264.36333333333, 87780.63500000001, 95807.54333333333, 98088.03333333334, 66018.91627906977, 65582.63101449274, 72289.7153030303, 78899.48999999999, 92010.49181818182, 76100.68000000001, 81750.95166666666, 80356.16888888889, 91371.99875, 86524.20466666667, 68119.25230000001, 91180.85166666667, 64692.796826347294, 88295.54333333335, 91253.63666666667, 83502.38100502513, 73040.64515625, 79815.55634920634, 60928.97913461539, 64377.01555555555, 99726.04000000001, 92829.24333333333, 92444.68333333333, 92619.70666666667, 48044.071052631574, 87479.865, 92619.70333333332, 86773.92333333334, 47328.627634584016, 53021.0703125, 78914.37055555555, 81324.74825396824, 98462.08333333333, 32919.261732673265, 65872.44462962962, 82576.79931034482, 70511.81456375838, 63848.22162857143, 70220.30416666665, 66138.58631355932, 91734.52666666667, 84804.035, 71059.39083333332, 79571.14303030304, 92273.63333333335, 78220.15510638297, 81428.97595238095, 86658.02, 52943.774117647066, 69956.68000000001, 60542.310675675675, 74358.63905660377, 71650.40974025974, 91581.23, 92402.23999999999, 65518.20907692308, 60028.621176470595, 73955.34032258064, 70614.22307692308, 76108.02933333334, 90145.32666666668, 83909.745, 89470.72333333333, 63438.12784090909, 67168.43722222222, 45845.271943573665, 77773.2809090909, 51641.31852348993, 80985.57666666668, 68750.13, 71810.79893258428, 75682.48151515152, 77235.75617021277, 65155.24209366392, 87323.13, 79018.1738095238, 70850.92483870967, 71920.95666666667, 89728.402, 77861.0942857143, 86842.53222222223, 96010.96432692309, 61496.4775, 73930.01454545454, 82089.075, 72623.0034848485, 45150.18034090909, 77381.96416666667, 50823.94269999999, 62318.03, 88544.21666666667, 84350.59125, 76660.39333333333, 90192.97, 53966.62178571429, 79894.66796610171, 74871.67724137931, 71223.94868421054, 79887.39142857143, 79533.638, 80876.2682198953, 53627.735, 79966.78107142857, 46615.39333333333, 74346.80171428571, 75740.35833333335, 81455.5488235294, 72690.62533333333, 76879.30048780487, 22614.448, 85269.01666666666, 62018.09235849057, 55628.93407407407, 73249.26986486485, 68111.27555555555, 75836.38515151516, 71614.01774193544, 65507.99577981651, 55875.399, 68448.31638132296, 73807.94, 61029.10508474577, 83595.59333333334, 52078.778, 48927.53, 69218.065, 60076.755106382974, 62995.06590163934, 68624.39300000001, 82667.57833333332, 69639.92826923078, 72490.16333333334, 76788.89466666667, 59589.98668571428, 81608.81681818183, 82882.39666666667, 67823.32479999999, 75086.20809523811, 58821.26470588235, 87191.27, 63189.19933333333, 48232.81897368421, 78036.52347826087, 59900.526754385966, 74257.5804347826, 56258.437462686576, 69012.75733606558, 46661.15, 71628.88088888887, 53114.45807692308, 68004.45445312501, 29330.909285714286, 44217.10222619047, 66739.39252189141, 75849.2459375, 56127.48691275167, 34275.4172, 59955.64555555556, 72451.88846153847, 78230.83432432431, 75914.87631578949, 67201.97660714286, 75105.602, 72529.7605, 62845.21703883495, 58837.122941176465, 69535.90066666665, 62071.0825, 55252.707073170735, 67451.39733333333, 67749.90578947369, 70820.08928571429, 62853.415, 70000.351, 89604.38500000001, 62892.34263157895, 61288.627428571424, 53219.34166666667, 69718.4707079646, 84926.07, 56411.53, 63599.91000000001, 54445.83101910827, 62835.59199170125, 75260.34, 84749.89, 71084.61892857144, 64941.94186046513, 66051.09624999999, 79603.72499999999, 58862.680512820516, 67355.20269911505, 48078.045999999995, 43500.91, 56672.73735294117, 66905.61069767442, 75317.64714285715, 67102.51333333334, 46911.593484848476, 72676.41989583333, 68561.68166666666, 64614.871176470595, 43269.94488372093, 61578.22515151516, 73689.81812499999, 61430.409375, 63613.96666666667, 68654.7771875, 72776.00583333333, 55695.90536585366, 67670.06360000001, 52248.9375, 65454.256111111106, 80387.03000000001, 77512.49333333333, 58408.076, 64295.97675675676, 62440.83739130434, 49559.847450980385, 70738.37714285713, 67570.385, 58038.8803030303, 62100.111666666664, 63109.72155555556, 51612.85385964912, 68226.77455089822, 58806.426857142855, 78306.17333333334, 71813.98999999999, 65505.493206521736, 38317.66, 56449.465, 72449.64130434782, 64402.0868, 61026.472827004225, 76031.5, 57138.77795454546, 53985.005694444444, 71039.08466666666, 67240.235, 61219.86638297872, 81935.25, 43589.654611872145, 31847.4175, 61434.067297297304, 79651.46, 49660.03, 52204.50454545454, 68344.84666666666, 61669.692769230765, 61503.13807692306, 61648.79142857143, 48122.51345454546, 69460.975, 49076.41694915254, 61250.13523076923, 57970.710332225906, 72532.65333333334, 52620.902805755395, 53230.46896103896, 60562.21244444445, 62282.63344632768, 53554.54607305936, 73610.31333333334, 76304.55666666666, 71530.53333333334, 54169.1475, 56453.82249999999, 64736.597499999996, 48794.176746987956, 43800.86534883721, 64631.51285714287, 51702.0562745098, 59635.97240875913, 62036.10125000001, 65355.31157894735, 56147.51492027335, 53763.25749999999, 63830.1, 59161.75204545455, 25629.786818181816, 59225.612499999996, 46738.21404040403, 70440.07333333335, 52825.55339622642, 51888.80833333333, 51306.03, 51253.66524590164, 35856.95888888889, 55044.70564220184, 72498.07666666666, 52660.62328571428, 63519.36316666666, 63810.62857142858, 58687.723600000005, 48818.7732, 47070.54241935484, 70085.61, 70172.26333333335, 52700.57416666666, 48974.850886075954, 44690.75907975461, 53707.81038461539, 46323.37684210526, 43915.83746753246, 63240.15666666668, 64892.82899999999, 36962.24122641509, 37649.58220930233, 67366.18000000001, 66085.33583333333, 52130.06357142858, 53154.11999999999, 41789.26757575758, 66449.87916666667, 53399.493119266066, 59829.950000000004, 56252.68166666667, 63445.237692307695, 58378.99705882353, 35914.785730337084, 71119.75, 49323.28333333334, 46353.76678977273, 80282.1, 70017.75166666666, 50019.11700534759, 64571.68333333333, 61692.90333333333, 7919.271121987951, 32209.483035714282, 38528.16333333334, 53094.03899999999, 34821.98865808823, 41582.02833333333, 69905.95666666667, 45352.30697278911, 48505.28655172414, 56826.85, 42691.55824626866, 60883.974444444444, 68661.6, 55316.10470588235, 48143.113333333335, 51176.64363636363, 34645.30839285714, 56835.670909090906, 58890.58583333334, 42901.24461538462, 51129.30561643836, 53226.337878787876, 50665.992, 54799.84, 51047.15439999999, 39306.63654545455, 58121.39125, 32399.160555555558, 29506.563902439022, 40285.055, 53875.66818181818, 54235.659999999996, 44943.68217391304, 62917.19666666666, 28244.049999999996, 61234.9, 46002.3725, 28114.233529411766, 39841.085, 60210.90333333334, 42919.04804347826, 41414.3075, 45285.72093333333, 57176.28333333333, 52330.494, 37661.709615384614, 55599.989375, 43017.37298245614, 22349.63298780488, 43899.979166666664, 40629.54272727273, 57819.493333333325, 38019.95078125, 63407.13333333334, 41771.70529411765, 29285.47, 53381.44, 68232.9, 51727.61625, 26872.823333333334, 56259.33666666667, 41511.501951219514, 34981.81925925925, 47072.66790322581, 24853.03, 62333.62, 55033.984444444446, 100081.32, 58025.386666666665, 44188.65703703704, 43310.33254143646, 34323.08677419354, 49474.71875, 44463.854745762714, 54241.92333333333, 39754.98315068492, 38328.8995, 25963.06539473684, 33355.490000000005, 56501.54, 21942.882628285355, 35494.556666666664, 46636.87, 18118.819999999996, 37398.434375, 6353.063842281879, 39164.68352941176, 47555.75666666666, 16284.164117647058, 14382.408417266186, 47250.770000000004, 45553.67555555555, 14296.709333333332, 18268.13553429027, 41335.12333333333, 19235.4, 34729.73375, 21173.70666666667, 36548.020000000004, 42235.69, 79331.625, 15674.779069767445, 101661.42875, 81539.83333333333, 10594.266846689896, 36961.43, 8242.309451945988, 9444.406520376175, 41853.675, 19946.936250000002, 30728.23852173913, 17413.952234042554, 44928.200000000004, 51044.52333333334, 17362.383333333335, 50228.23333333334, 26148.936470588236, 44707.215000000004, 15037.000294117648, 31976.760000000002, 42632.70375, 3667.3161139896374, 60900.15, 38047.03333333333, 45878.95974358975, 15636.15393939394, 53030.77666666667, 15491.351538461538, 6664.901111111111, 21802.1, 24825.63092592592, 17765.675000000003, 5426.981443850267, 31885.65666666667, 15305.2, 13968.25, 10043.225813953488, 10242.827307692309, 7643.6449999999995, 7097.481577060932, 27143.900000000005, 11215.17, 13782.49, 2348.05052238806, 2536.0254285714286, 3566.283381294964, 1466.7134545454546, 8006.521739130435, 24367.77875, 4215.1408053691275, 29555.603333333336, 6952.42, 30531.155, 3656.9, 2620.614545454546, 1216.3906024096386, 2194.5342857142855, 2552.55, 706.698275862069, 263.76612903225805, 252546.94323076925, 256750.46000000002, 208098.86357142855, 158640.439, 168228.23, 139473.42, 69715.93764705882, 109070.31129032258, 122068.1875, 113359.76000000001, 110575.55, 91033.66153846153, 83483.75666666667, 51753.32645161291, 66153.21272727272, 80098.20306569344, 110723.12, 91892.48749999999, 60558.78833333333, 83813.7, 70885.42499999999, 65530.95, 74450.515, 57970.258571428574, 40609.095555555556, 29227.110645161287, 51542.58666666667, 40876.380000000005, 35332.78, 22874.923333333336, 25.76, 0.0, 0.0, 0.0, 339653.7, 248637.57, 218907.21, 143982.64, 91756.63375000001, 137741.0, 123665.67, 117979.0625, 108650.930625, 65145.333297644545, 85928.81954545456, 115641.2, 75149.43478260869, 96803.51, 81571.42285714285, 95188.1, 95693.65, 78205.76, 64811.34117647059, 68884.9009375, 75018.69799999999, 67185.78148936172, 72803.83499999999, 72173.62, 49654.56, 34738.420000000006, 13510.453571428572, 22181.503, 62290.78, 44736.4375, 34764.0, 31571.23, 17363.14, 3361.44, 2074.6, 0.0]\n"
     ]
    }
   ],
   "source": [
    "lst_salary=[]\n",
    "for e in lst_job:\n",
    "    \n",
    "    ele=df[df['JobTitle']==e]['TotalPay'].mean()\n",
    "    lst_salary.append(ele)\n",
    "print(lst_salary)"
   ]
  },
  {
   "cell_type": "code",
   "execution_count": 33,
   "id": "dae59bf3",
   "metadata": {},
   "outputs": [
    {
     "data": {
      "text/plain": [
       "[<matplotlib.lines.Line2D at 0x1c9ba102e00>]"
      ]
     },
     "execution_count": 33,
     "metadata": {},
     "output_type": "execute_result"
    },
    {
     "data": {
      "image/png": "[encoded data removed]",
      "text/plain": [
       "<Figure size 432x288 with 1 Axes>"
      ]
     },
     "metadata": {
      "needs_background": "light"
     },
     "output_type": "display_data"
    }
   ],
   "source": [
    "plt.plot(lst_salary,lst_job)"
   ]
  },
  {
   "cell_type": "code",
   "execution_count": 34,
   "id": "4838a74e",
   "metadata": {},
   "outputs": [],
   "source": [
    "lst1=lst_job[:5]\n",
    "lst2=lst_salary[:5]"
   ]
  },
  {
   "cell_type": "code",
   "execution_count": 35,
   "id": "8ad29f34",
   "metadata": {},
   "outputs": [
    {
     "name": "stdout",
     "output_type": "stream",
     "text": [
      "['GENERAL MANAGER-METROPOLITAN TRANSIT AUTHORITY', 'CAPTAIN III (POLICE DEPARTMENT)', 'WIRE ROPE CABLE MAINTENANCE MECHANIC', 'DEPUTY CHIEF OF DEPARTMENT,(FIRE DEPARTMENT)', 'ASSISTANT DEPUTY CHIEF II']\n",
      "[399211.275, 211783.89324324325, 145073.4925, 279359.56, 228724.50599999996]\n"
     ]
    }
   ],
   "source": [
    "print(lst1)\n",
    "print(lst2)"
   ]
  },
  {
   "cell_type": "code",
   "execution_count": null,
   "id": "8c65672f",
   "metadata": {
    "scrolled": true
   },
   "outputs": [],
   "source": []
  },
  {
   "cell_type": "code",
   "execution_count": 37,
   "id": "c2033915",
   "metadata": {},
   "outputs": [],
   "source": [
    "dic=dict(zip(lst_job,lst_salary))"
   ]
  },
  {
   "cell_type": "code",
   "execution_count": 38,
   "id": "525a640e",
   "metadata": {},
   "outputs": [],
   "source": [
    "data=pd.DataFrame(dic,index=[1])"
   ]
  },
  {
   "cell_type": "code",
   "execution_count": 39,
   "id": "3bae15fe",
   "metadata": {},
   "outputs": [
    {
     "data": {
      "text/html": [
       "<div>\n",
       "<style scoped>\n",
       "    .dataframe tbody tr th:only-of-type {\n",
       "        vertical-align: middle;\n",
       "    }\n",
       "\n",
       "    .dataframe tbody tr th {\n",
       "        vertical-align: top;\n",
       "    }\n",
       "\n",
       "    .dataframe thead th {\n",
       "        text-align: right;\n",
       "    }\n",
       "</style>\n",
       "<table border=\"1\" class=\"dataframe\">\n",
       "  <thead>\n",
       "    <tr style=\"text-align: right;\">\n",
       "      <th></th>\n",
       "      <th>GENERAL MANAGER-METROPOLITAN TRANSIT AUTHORITY</th>\n",
       "      <th>CAPTAIN III (POLICE DEPARTMENT)</th>\n",
       "      <th>WIRE ROPE CABLE MAINTENANCE MECHANIC</th>\n",
       "      <th>DEPUTY CHIEF OF DEPARTMENT,(FIRE DEPARTMENT)</th>\n",
       "      <th>ASSISTANT DEPUTY CHIEF II</th>\n",
       "      <th>BATTALION CHIEF, (FIRE DEPARTMENT)</th>\n",
       "      <th>DEPUTY DIRECTOR OF INVESTMENTS</th>\n",
       "      <th>CHIEF OF DEPARTMENT, (FIRE DEPARTMENT)</th>\n",
       "      <th>ASSISTANT CHIEF OF DEPARTMENT, (FIRE DEPARTMENT)</th>\n",
       "      <th>EXECUTIVE CONTRACT EMPLOYEE</th>\n",
       "      <th>...</th>\n",
       "      <th>Hospital Eligibility Worker</th>\n",
       "      <th>Personnel Trainee</th>\n",
       "      <th>ACPO,JuvP, Juv Prob (SFERS)</th>\n",
       "      <th>Apprentice Cement Mason I</th>\n",
       "      <th>Marina Associate Manager</th>\n",
       "      <th>Sr Cnselor, Juv Hall (SFERS)</th>\n",
       "      <th>Forensic Toxicologist Supervis</th>\n",
       "      <th>Conversion</th>\n",
       "      <th>Cashier 3</th>\n",
       "      <th>Not provided</th>\n",
       "    </tr>\n",
       "  </thead>\n",
       "  <tbody>\n",
       "    <tr>\n",
       "      <th>1</th>\n",
       "      <td>399211.275</td>\n",
       "      <td>211783.893243</td>\n",
       "      <td>145073.4925</td>\n",
       "      <td>279359.56</td>\n",
       "      <td>228724.506</td>\n",
       "      <td>216655.536889</td>\n",
       "      <td>307899.46</td>\n",
       "      <td>302377.73</td>\n",
       "      <td>203427.85</td>\n",
       "      <td>277438.84</td>\n",
       "      <td>...</td>\n",
       "      <td>13510.453571</td>\n",
       "      <td>22181.503</td>\n",
       "      <td>62290.78</td>\n",
       "      <td>44736.4375</td>\n",
       "      <td>34764.0</td>\n",
       "      <td>31571.23</td>\n",
       "      <td>17363.14</td>\n",
       "      <td>3361.44</td>\n",
       "      <td>2074.6</td>\n",
       "      <td>0.0</td>\n",
       "    </tr>\n",
       "  </tbody>\n",
       "</table>\n",
       "<p>1 rows × 2159 columns</p>\n",
       "</div>"
      ],
      "text/plain": [
       "   GENERAL MANAGER-METROPOLITAN TRANSIT AUTHORITY  \\\n",
       "1                                      399211.275   \n",
       "\n",
       "   CAPTAIN III (POLICE DEPARTMENT)  WIRE ROPE CABLE MAINTENANCE MECHANIC  \\\n",
       "1                    211783.893243                           145073.4925   \n",
       "\n",
       "   DEPUTY CHIEF OF DEPARTMENT,(FIRE DEPARTMENT)  ASSISTANT DEPUTY CHIEF II  \\\n",
       "1                                     279359.56                 228724.506   \n",
       "\n",
       "   BATTALION CHIEF, (FIRE DEPARTMENT)  DEPUTY DIRECTOR OF INVESTMENTS  \\\n",
       "1                       216655.536889                       307899.46   \n",
       "\n",
       "   CHIEF OF DEPARTMENT, (FIRE DEPARTMENT)  \\\n",
       "1                               302377.73   \n",
       "\n",
       "   ASSISTANT CHIEF OF DEPARTMENT, (FIRE DEPARTMENT)  \\\n",
       "1                                         203427.85   \n",
       "\n",
       "   EXECUTIVE CONTRACT EMPLOYEE  ...  Hospital Eligibility Worker  \\\n",
       "1                    277438.84  ...                 13510.453571   \n",
       "\n",
       "   Personnel Trainee  ACPO,JuvP, Juv Prob (SFERS)  Apprentice Cement Mason I  \\\n",
       "1          22181.503                     62290.78                 44736.4375   \n",
       "\n",
       "   Marina Associate Manager  Sr Cnselor, Juv Hall (SFERS)  \\\n",
       "1                   34764.0                      31571.23   \n",
       "\n",
       "   Forensic Toxicologist Supervis  Conversion  Cashier 3  Not provided  \n",
       "1                        17363.14     3361.44     2074.6           0.0  \n",
       "\n",
       "[1 rows x 2159 columns]"
      ]
     },
     "execution_count": 39,
     "metadata": {},
     "output_type": "execute_result"
    }
   ],
   "source": [
    "data"
   ]
  },
  {
   "cell_type": "code",
   "execution_count": 40,
   "id": "abac6c99",
   "metadata": {},
   "outputs": [
    {
     "data": {
      "text/plain": [
       "(1, 2159)"
      ]
     },
     "execution_count": 40,
     "metadata": {},
     "output_type": "execute_result"
    }
   ],
   "source": [
    "data.shape"
   ]
  },
  {
   "cell_type": "code",
   "execution_count": 41,
   "id": "409db212",
   "metadata": {},
   "outputs": [],
   "source": [
    "data=data.melt()"
   ]
  },
  {
   "cell_type": "code",
   "execution_count": 42,
   "id": "e0f90e9e",
   "metadata": {},
   "outputs": [],
   "source": [
    "data=data.replace('Not provided',np.NaN)"
   ]
  },
  {
   "cell_type": "code",
   "execution_count": 43,
   "id": "e04ca35f",
   "metadata": {},
   "outputs": [
    {
     "data": {
      "text/html": [
       "<div>\n",
       "<style scoped>\n",
       "    .dataframe tbody tr th:only-of-type {\n",
       "        vertical-align: middle;\n",
       "    }\n",
       "\n",
       "    .dataframe tbody tr th {\n",
       "        vertical-align: top;\n",
       "    }\n",
       "\n",
       "    .dataframe thead th {\n",
       "        text-align: right;\n",
       "    }\n",
       "</style>\n",
       "<table border=\"1\" class=\"dataframe\">\n",
       "  <thead>\n",
       "    <tr style=\"text-align: right;\">\n",
       "      <th></th>\n",
       "      <th>variable</th>\n",
       "      <th>value</th>\n",
       "    </tr>\n",
       "  </thead>\n",
       "  <tbody>\n",
       "    <tr>\n",
       "      <th>0</th>\n",
       "      <td>GENERAL MANAGER-METROPOLITAN TRANSIT AUTHORITY</td>\n",
       "      <td>399211.275000</td>\n",
       "    </tr>\n",
       "    <tr>\n",
       "      <th>1</th>\n",
       "      <td>CAPTAIN III (POLICE DEPARTMENT)</td>\n",
       "      <td>211783.893243</td>\n",
       "    </tr>\n",
       "    <tr>\n",
       "      <th>2</th>\n",
       "      <td>WIRE ROPE CABLE MAINTENANCE MECHANIC</td>\n",
       "      <td>145073.492500</td>\n",
       "    </tr>\n",
       "    <tr>\n",
       "      <th>3</th>\n",
       "      <td>DEPUTY CHIEF OF DEPARTMENT,(FIRE DEPARTMENT)</td>\n",
       "      <td>279359.560000</td>\n",
       "    </tr>\n",
       "    <tr>\n",
       "      <th>4</th>\n",
       "      <td>ASSISTANT DEPUTY CHIEF II</td>\n",
       "      <td>228724.506000</td>\n",
       "    </tr>\n",
       "    <tr>\n",
       "      <th>...</th>\n",
       "      <td>...</td>\n",
       "      <td>...</td>\n",
       "    </tr>\n",
       "    <tr>\n",
       "      <th>2154</th>\n",
       "      <td>Sr Cnselor, Juv Hall (SFERS)</td>\n",
       "      <td>31571.230000</td>\n",
       "    </tr>\n",
       "    <tr>\n",
       "      <th>2155</th>\n",
       "      <td>Forensic Toxicologist Supervis</td>\n",
       "      <td>17363.140000</td>\n",
       "    </tr>\n",
       "    <tr>\n",
       "      <th>2156</th>\n",
       "      <td>Conversion</td>\n",
       "      <td>3361.440000</td>\n",
       "    </tr>\n",
       "    <tr>\n",
       "      <th>2157</th>\n",
       "      <td>Cashier 3</td>\n",
       "      <td>2074.600000</td>\n",
       "    </tr>\n",
       "    <tr>\n",
       "      <th>2158</th>\n",
       "      <td>NaN</td>\n",
       "      <td>0.000000</td>\n",
       "    </tr>\n",
       "  </tbody>\n",
       "</table>\n",
       "<p>2159 rows × 2 columns</p>\n",
       "</div>"
      ],
      "text/plain": [
       "                                            variable          value\n",
       "0     GENERAL MANAGER-METROPOLITAN TRANSIT AUTHORITY  399211.275000\n",
       "1                    CAPTAIN III (POLICE DEPARTMENT)  211783.893243\n",
       "2               WIRE ROPE CABLE MAINTENANCE MECHANIC  145073.492500\n",
       "3       DEPUTY CHIEF OF DEPARTMENT,(FIRE DEPARTMENT)  279359.560000\n",
       "4                          ASSISTANT DEPUTY CHIEF II  228724.506000\n",
       "...                                              ...            ...\n",
       "2154                    Sr Cnselor, Juv Hall (SFERS)   31571.230000\n",
       "2155                  Forensic Toxicologist Supervis   17363.140000\n",
       "2156                                      Conversion    3361.440000\n",
       "2157                                       Cashier 3    2074.600000\n",
       "2158                                             NaN       0.000000\n",
       "\n",
       "[2159 rows x 2 columns]"
      ]
     },
     "execution_count": 43,
     "metadata": {},
     "output_type": "execute_result"
    }
   ],
   "source": [
    "data"
   ]
  },
  {
   "cell_type": "code",
   "execution_count": 44,
   "id": "2fdad6c5",
   "metadata": {},
   "outputs": [],
   "source": [
    "data=data.dropna()"
   ]
  },
  {
   "cell_type": "code",
   "execution_count": 45,
   "id": "4aa3978f",
   "metadata": {},
   "outputs": [
    {
     "data": {
      "text/plain": [
       "(2158, 2)"
      ]
     },
     "execution_count": 45,
     "metadata": {},
     "output_type": "execute_result"
    }
   ],
   "source": [
    "data.shape"
   ]
  },
  {
   "cell_type": "code",
   "execution_count": 46,
   "id": "62e03cb3",
   "metadata": {},
   "outputs": [
    {
     "data": {
      "text/plain": [
       "Index(['Id', 'EmployeeName', 'JobTitle', 'BasePay', 'OvertimePay', 'OtherPay',\n",
       "       'Benefits', 'TotalPay', 'TotalPayBenefits', 'Year', 'Notes', 'Agency',\n",
       "       'Status'],\n",
       "      dtype='object')"
      ]
     },
     "execution_count": 46,
     "metadata": {},
     "output_type": "execute_result"
    }
   ],
   "source": [
    "df.columns"
   ]
  },
  {
   "cell_type": "code",
   "execution_count": 47,
   "id": "0f86f4ad",
   "metadata": {},
   "outputs": [],
   "source": [
    "dicc=dict(df['JobTitle'].value_counts().head())"
   ]
  },
  {
   "cell_type": "code",
   "execution_count": 48,
   "id": "19b88307",
   "metadata": {
    "scrolled": true
   },
   "outputs": [
    {
     "data": {
      "text/plain": [
       "{'Transit Operator': 7036,\n",
       " 'Special Nurse': 4389,\n",
       " 'Registered Nurse': 3736,\n",
       " 'Public Svc Aide-Public Works': 2518,\n",
       " 'Police Officer 3': 2421}"
      ]
     },
     "execution_count": 48,
     "metadata": {},
     "output_type": "execute_result"
    }
   ],
   "source": [
    "dicc"
   ]
  },
  {
   "cell_type": "code",
   "execution_count": 49,
   "id": "cece4be9",
   "metadata": {},
   "outputs": [
    {
     "data": {
      "text/plain": [
       "['GENERAL MANAGER-METROPOLITAN TRANSIT AUTHORITY',\n",
       " 'CAPTAIN III (POLICE DEPARTMENT)',\n",
       " 'WIRE ROPE CABLE MAINTENANCE MECHANIC',\n",
       " 'DEPUTY CHIEF OF DEPARTMENT,(FIRE DEPARTMENT)',\n",
       " 'ASSISTANT DEPUTY CHIEF II']"
      ]
     },
     "execution_count": 49,
     "metadata": {},
     "output_type": "execute_result"
    }
   ],
   "source": [
    "lst1"
   ]
  },
  {
   "cell_type": "code",
   "execution_count": 50,
   "id": "0a2eb847",
   "metadata": {},
   "outputs": [
    {
     "data": {
      "text/plain": [
       "[399211.275, 211783.89324324325, 145073.4925, 279359.56, 228724.50599999996]"
      ]
     },
     "execution_count": 50,
     "metadata": {},
     "output_type": "execute_result"
    }
   ],
   "source": [
    "lst2"
   ]
  },
  {
   "cell_type": "code",
   "execution_count": 58,
   "id": "28c00417",
   "metadata": {},
   "outputs": [],
   "source": [
    "label=[]\n",
    "ite=[]\n",
    "for a,b in dicc.items():\n",
    "    ite.append(a)\n",
    "    label.append(b)"
   ]
  },
  {
   "cell_type": "code",
   "execution_count": 59,
   "id": "8f1dce51",
   "metadata": {},
   "outputs": [
    {
     "data": {
      "text/plain": [
       "[7036, 4389, 3736, 2518, 2421]"
      ]
     },
     "execution_count": 59,
     "metadata": {},
     "output_type": "execute_result"
    }
   ],
   "source": [
    "label"
   ]
  },
  {
   "cell_type": "code",
   "execution_count": 61,
   "id": "58383c0b",
   "metadata": {
    "scrolled": true
   },
   "outputs": [
    {
     "data": {
      "text/plain": [
       "['Transit Operator',\n",
       " 'Special Nurse',\n",
       " 'Registered Nurse',\n",
       " 'Public Svc Aide-Public Works',\n",
       " 'Police Officer 3']"
      ]
     },
     "execution_count": 61,
     "metadata": {},
     "output_type": "execute_result"
    }
   ],
   "source": [
    "ite"
   ]
  },
  {
   "cell_type": "code",
   "execution_count": 63,
   "id": "3bab9db9",
   "metadata": {},
   "outputs": [
    {
     "data": {
      "text/plain": [
       "([<matplotlib.patches.Wedge at 0x1c9bd903df0>,\n",
       "  <matplotlib.patches.Wedge at 0x1c9bdb00130>,\n",
       "  <matplotlib.patches.Wedge at 0x1c9bdb00610>,\n",
       "  <matplotlib.patches.Wedge at 0x1c9bdb00af0>,\n",
       "  <matplotlib.patches.Wedge at 0x1c9bdb00fd0>],\n",
       " [Text(0.4992363156556432, 0.9801852381721422, 'Transit Operator'),\n",
       "  Text(-1.064103534690284, 0.27871789942456804, 'Special Nurse'),\n",
       "  Text(-0.58154969539069, -0.9337022822029493, 'Registered Nurse'),\n",
       "  Text(0.44898044598645726, -1.0041994618211076, 'Public Svc Aide-Public Works'),\n",
       "  Text(1.0221835222545301, -0.40637525371425176, 'Police Officer 3')])"
      ]
     },
     "execution_count": 63,
     "metadata": {},
     "output_type": "execute_result"
    },
    {
     "data": {
      "image/png": "[encoded data removed]",
      "text/plain": [
       "<Figure size 432x288 with 1 Axes>"
      ]
     },
     "metadata": {},
     "output_type": "display_data"
    }
   ],
   "source": [
    "plt.pie(label,labels=ite)"
   ]
  }
 ],
 "metadata": {
  "kernelspec": {
   "display_name": "Python 3 (ipykernel)",
   "language": "python",
   "name": "python3"
  },
  "language_info": {
   "codemirror_mode": {
    "name": "ipython",
    "version": 3
   },
   "file_extension": ".py",
   "mimetype": "text/x-python",
   "name": "python",
   "nbconvert_exporter": "python",
   "pygments_lexer": "ipython3",
   "version": "3.10.1"
  }
 },
 "nbformat": 4,
 "nbformat_minor": 5
}
